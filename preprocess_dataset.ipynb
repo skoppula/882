{
 "cells": [
  {
   "cell_type": "code",
   "execution_count": 3,
   "metadata": {
    "collapsed": true
   },
   "outputs": [],
   "source": [
    "import pandas as pd\n",
    "import os.path\n",
    "import sys\n",
    "import numpy as np"
   ]
  },
  {
   "cell_type": "code",
   "execution_count": 26,
   "metadata": {
    "collapsed": false
   },
   "outputs": [],
   "source": [
    "def cut_out_zero_rows(data):\n",
    "    return data.loc[~(data == 0).all(axis=1)]\n",
    "\n",
    "def cut_out_zero_cols(data):\n",
    "    return data.loc[:, ~(data == 0).all(axis=0)]\n",
    "\n",
    "def load_dataset(preprocessed_path='dataset/preprocessed/human_melanoma_data.npy',\n",
    "                 raw_path='dataset/human_melanoma_data.tsv', filter_std=None, load=True):\n",
    "\n",
    "    preprocessed_data_path = preprocessed_path.split('.')[0] + '_' + str(filter_std) + '.npy'\n",
    "    if os.path.isfile(preprocessed_data_path) and load:\n",
    "        return np.load(preprocessed_data_path),  np.load(preprocessed_path.split('.')[0] + \"_column_lbls.npy\"), np.load(preprocessed_path.split('.')[0] + \"_row_lbls.npy\")\n",
    "\n",
    "    elif os.path.isfile(raw_path):\n",
    "        expr_data = pd.read_csv(raw_path, delimiter='\\t').T\n",
    "        print(\"Number of cells:\", expr_data.shape[0])\n",
    "        print(\"Number of genes:\", expr_data.shape[1])\n",
    "\n",
    "        # excise stop genes\n",
    "        STOP_GENES = ['ACTB', 'B2M', 'EEF1A1', 'MTRNR2L1', 'MTRNR2L2',\n",
    "                  'MTRNR2L8', 'RPL41', 'RPLP1', 'RPS18', 'RPS27', 'TMSB4X']\n",
    "        expr_data = expr_data.drop(STOP_GENES, 1)\n",
    "        print(\"After cutting out stop genes:\")\n",
    "        print(\"\\tNumber of cells:\", expr_data.shape[0])\n",
    "        print(\"\\tNumber of genes:\", expr_data.shape[1])\n",
    "\n",
    "        genes = list(expr_data.columns.values)\n",
    "        ribosomal_genes = [gene for gene in genes if gene.startswith('RPL')]\n",
    "        mito_ribosomal_genes = [gene for gene in genes if gene.startswith('MRPL')]\n",
    "        excise_genes = ribosomal_genes + mito_ribosomal_genes\n",
    "        expr_data = expr_data.drop(excise_genes, 1)\n",
    "        print(\"After cutting out ribosomal protein genes:\")\n",
    "        print(\"\\tNumber of cells:\", expr_data.shape[0])\n",
    "        print(\"\\tNumber of genes:\", expr_data.shape[1])\n",
    "\n",
    "        # excise zero cells\n",
    "        expr_data = cut_out_zero_rows(expr_data)\n",
    "        print(\"After cutting out all-zero rows [cells]:\")\n",
    "        print(\"\\tNumber of cells:\", expr_data.shape[0])\n",
    "        print(\"\\tNumber of genes:\", expr_data.shape[1])\n",
    "\n",
    "        # excise zero genes\n",
    "        expr_data = cut_out_zero_cols(expr_data)\n",
    "        print(\"After cutting out all-zero columns [genes]:\")\n",
    "        print(\"\\tNumber of cells:\", expr_data.shape[0])\n",
    "        print(\"\\tNumber of genes:\", expr_data.shape[1])\n",
    "        \n",
    "        # remove low STD cols (genes)\n",
    "        stds = np.std(expr_data, axis=0)\n",
    "        keep_idxs = stds.argsort()[int(len(stds)*filter_std):]\n",
    "        threshold = np.sort(stds)[int(len(stds)*filter_std)]\n",
    "        expr_data = np.take(expr_data,keep_idxs, axis=1)\n",
    "        print(\"After cutting out the bottom %f fraction of genes with low STD (<%f):\" % (filter_std, threshold))\n",
    "        print(\"\\tNumber of cells:\", expr_data.shape[0])\n",
    "        print(\"\\tNumber of genes:\", expr_data.shape[1])\n",
    "        \n",
    "        expr_data = expr_data.astype('int')\n",
    "\n",
    "        if not os.path.isdir('dataset/preprocessed/'):\n",
    "            os.mkdir('dataset/preprocessed/')\n",
    "\n",
    "        np.save(preprocessed_data_path, expr_data.values)\n",
    "        np.save(preprocessed_path.split('.')[0] + \"_column_lbls.npy\", expr_data.columns.values)\n",
    "        np.save(preprocessed_path.split('.')[0] + \"_row_lbls.npy\", expr_data.index.values)\n",
    "\n",
    "        return expr_data.values, expr_data.columns.values, expr_data.index.values\n",
    "\n",
    "    else:\n",
    "        print(\"Couldn't find files!\")\n",
    "        sys.exit(1)\n"
   ]
  },
  {
   "cell_type": "code",
   "execution_count": 27,
   "metadata": {
    "collapsed": false
   },
   "outputs": [
    {
     "name": "stdout",
     "output_type": "stream",
     "text": [
      "Number of cells: 4645\n",
      "Number of genes: 23686\n",
      "After cutting out stop genes:\n",
      "\tNumber of cells: 4645\n",
      "\tNumber of genes: 23675\n",
      "After cutting out ribosomal protein genes:\n",
      "\tNumber of cells: 4645\n",
      "\tNumber of genes: 23552\n",
      "After cutting out all-zero rows [cells]:\n",
      "\tNumber of cells: 4645\n",
      "\tNumber of genes: 23552\n",
      "After cutting out all-zero columns [genes]:\n",
      "\tNumber of cells: 4645\n",
      "\tNumber of genes: 22712\n",
      "After cutting out the bottom 0.250000 fraction of genes with low STD (<1.005551):\n",
      "\tNumber of cells: 4645\n",
      "\tNumber of genes: 17034\n",
      "Data shape: (4645, 17034)\n"
     ]
    }
   ],
   "source": [
    "# data, genes, cells = load_dataset(filter_std=0.25)\n",
    "# print(\"Data shape:\", data.shape)"
   ]
  },
  {
   "cell_type": "code",
   "execution_count": 28,
   "metadata": {
    "collapsed": false
   },
   "outputs": [
    {
     "name": "stdout",
     "output_type": "stream",
     "text": [
      "Number of cells: 4645\n",
      "Number of genes: 23686\n",
      "After cutting out stop genes:\n",
      "\tNumber of cells: 4645\n",
      "\tNumber of genes: 23675\n",
      "After cutting out ribosomal protein genes:\n",
      "\tNumber of cells: 4645\n",
      "\tNumber of genes: 23552\n",
      "After cutting out all-zero rows [cells]:\n",
      "\tNumber of cells: 4645\n",
      "\tNumber of genes: 23552\n",
      "After cutting out all-zero columns [genes]:\n",
      "\tNumber of cells: 4645\n",
      "\tNumber of genes: 22712\n",
      "After cutting out the bottom 0.100000 fraction of genes with low STD (<0.403243):\n",
      "\tNumber of cells: 4645\n",
      "\tNumber of genes: 20441\n",
      "Data shape: (4645, 20441)\n"
     ]
    }
   ],
   "source": [
    "# data, genes, cells = load_dataset(filter_std=0.1)\n",
    "# print(\"Data shape:\", data.shape)"
   ]
  },
  {
   "cell_type": "code",
   "execution_count": 29,
   "metadata": {
    "collapsed": false
   },
   "outputs": [
    {
     "name": "stdout",
     "output_type": "stream",
     "text": [
      "Number of cells: 4645\n",
      "Number of genes: 23686\n",
      "After cutting out stop genes:\n",
      "\tNumber of cells: 4645\n",
      "\tNumber of genes: 23675\n",
      "After cutting out ribosomal protein genes:\n",
      "\tNumber of cells: 4645\n",
      "\tNumber of genes: 23552\n",
      "After cutting out all-zero rows [cells]:\n",
      "\tNumber of cells: 4645\n",
      "\tNumber of genes: 23552\n",
      "After cutting out all-zero columns [genes]:\n",
      "\tNumber of cells: 4645\n",
      "\tNumber of genes: 22712\n",
      "After cutting out the bottom 0.000000 fraction of genes with low STD (<0.014671):\n",
      "\tNumber of cells: 4645\n",
      "\tNumber of genes: 22712\n",
      "Data shape: (4645, 22712)\n"
     ]
    }
   ],
   "source": [
    "# data, genes, cells = load_dataset(filter_std=0)\n",
    "# print(\"Data shape:\", data.shape)"
   ]
  }
 ],
 "metadata": {
  "anaconda-cloud": {},
  "kernelspec": {
   "display_name": "Python [conda root]",
   "language": "python",
   "name": "conda-root-py"
  },
  "language_info": {
   "codemirror_mode": {
    "name": "ipython",
    "version": 3
   },
   "file_extension": ".py",
   "mimetype": "text/x-python",
   "name": "python",
   "nbconvert_exporter": "python",
   "pygments_lexer": "ipython3",
   "version": "3.5.2"
  }
 },
 "nbformat": 4,
 "nbformat_minor": 1
}
