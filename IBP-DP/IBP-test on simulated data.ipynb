{
 "metadata": {
  "name": "",
  "signature": "sha256:a13a4c4b46fffa7394da397d1adbe206635e742a9a8a6301d2a6035258a5d8e0"
 },
 "nbformat": 3,
 "nbformat_minor": 0,
 "worksheets": [
  {
   "cells": [
    {
     "cell_type": "code",
     "collapsed": false,
     "input": [
      "import numpy as np\n",
      "np.random.seed(2)\n",
      "# generate topics\n",
      "n_docs = 10\n",
      "n_vocab = 50\n",
      "\n",
      "alpha = 1\n",
      "gamma = 5\n",
      "eta = 0.1\n",
      "\n",
      "pi = []\n",
      "stick_length = 1\n",
      "while stick_length > 0.01:\n",
      "    mu = np.random.beta(alpha, 1)\n",
      "    pi.append(stick_length*mu)\n",
      "    stick_length = mu*stick_length\n",
      "\n",
      "pi = np.array(pi[0:-1])\n",
      "phi = np.random.gamma(shape = gamma, scale = 1, size = pi.shape)\n",
      "\n",
      "beta = []\n",
      "for i in range(len(pi)):\n",
      "    beta.append(np.random.dirichlet(np.ones(n_vocab)*eta))\n",
      "\n",
      "print(\"pi:\", pi)\n",
      "print(\"phi:\", phi)\n",
      "#print(\"beta:\", beta)\n",
      "\n",
      "WS = []\n",
      "DS = []\n",
      "ZS = []\n",
      "theta = []\n",
      "# generate word lists per document\n",
      "for m in range(n_docs):\n",
      "    b_m = np.random.binomial(1,pi)\n",
      "    b_m[0] = 1\n",
      "    n_m = np.random.negative_binomial(np.sum(np.multiply(b_m,phi)), 0.5)\n",
      "    theta_m = np.random.dirichlet(np.multiply(b_m,phi))\n",
      "    theta.append(theta_m)\n",
      "    for i in range(n_m):\n",
      "        z = np.random.multinomial(1,theta_m)\n",
      "        z = np.ndarray.item(np.argwhere(z==1).squeeze())\n",
      "        ZS.append(z)\n",
      "        DS.append(m)\n",
      "        WS.append(np.ndarray.item(np.argwhere(np.random.multinomial(1, beta[z])==1).squeeze()))\n",
      "\n",
      "ZS = np.array(ZS)\n",
      "DS = np.array(DS)\n",
      "WS = np.array(WS)\n",
      "#print(\"theta:\", theta)\n",
      "        \n",
      "# from LDA utils\n",
      "def lists_to_matrix(WS, DS):\n",
      "    \"\"\"Convert array of word (or topic) and document indices to doc-term array\n",
      "    Parameters\n",
      "    -----------\n",
      "    (WS, DS) : tuple of two arrays\n",
      "        WS[k] contains the kth word in the corpus\n",
      "        DS[k] contains the document index for the kth word\n",
      "    Returns\n",
      "    -------\n",
      "    doc_word : array (D, V)\n",
      "        document-term array of counts\n",
      "    \"\"\"\n",
      "    D = max(DS) + 1\n",
      "    V = max(WS) + 1\n",
      "\n",
      "    doc_word = np.empty((D, V), dtype=np.intc)\n",
      "\n",
      "    for d in range(D):\n",
      "        for v in range(V):\n",
      "            \n",
      "            doc_word[d, v] = np.count_nonzero(WS[DS == d] == v)\n",
      "            #print(doc_word[d,v])\n",
      "    return doc_word\n",
      "\n",
      "#print(WS)\n",
      "#print(DS)\n",
      "\n",
      "data = lists_to_matrix(WS, DS)\n",
      "\n",
      "#print(data)"
     ],
     "language": "python",
     "metadata": {},
     "outputs": [
      {
       "output_type": "stream",
       "stream": "stdout",
       "text": [
        "pi: [ 0.94387303  0.52672037  0.2949454   0.07325978  0.03875258]\n",
        "phi: [ 5.93071262  3.49365069  3.23034621  4.6861906   5.24315456]\n"
       ]
      }
     ],
     "prompt_number": 1
    },
    {
     "cell_type": "code",
     "collapsed": false,
     "input": [
      "import IBPCompoundDirichlet\n",
      "import time\n",
      "\n",
      "t_start = time.time()\n",
      "\n",
      "model = IBPCompoundDirichlet.IBPCompoundDirichlet()\n",
      "model.fit_data(data, 100, 5, 1, 0.1)\n",
      "\n",
      "t_end = time.time()\n",
      "\n",
      "t_end-t_start"
     ],
     "language": "python",
     "metadata": {},
     "outputs": [
      {
       "output_type": "stream",
       "stream": "stdout",
       "text": [
        "109\n",
        "Sampling 0 of 109 in ZS\n",
        "Iteration"
       ]
      },
      {
       "output_type": "stream",
       "stream": "stdout",
       "text": [
        " 0 Complete z\n",
        "Iteration"
       ]
      },
      {
       "output_type": "stream",
       "stream": "stdout",
       "text": [
        " 0 Complete pi phi\n",
        "Perplexity: 96.8347215543\n",
        "Sampling 0 of 109 in ZS\n",
        "Iteration"
       ]
      },
      {
       "output_type": "stream",
       "stream": "stdout",
       "text": [
        " 1 Complete z\n",
        "Iteration"
       ]
      },
      {
       "output_type": "stream",
       "stream": "stdout",
       "text": [
        " 1 Complete pi phi\n",
        "Perplexity: 79.9708645151\n",
        "Sampling 0 of 109 in ZS\n",
        "Iteration"
       ]
      },
      {
       "output_type": "stream",
       "stream": "stdout",
       "text": [
        " 2 Complete z\n",
        "Iteration"
       ]
      },
      {
       "output_type": "stream",
       "stream": "stdout",
       "text": [
        " 2 Complete pi phi\n",
        "Perplexity: 72.6730478319\n",
        "Sampling 0 of 109 in ZS\n",
        "Iteration"
       ]
      },
      {
       "output_type": "stream",
       "stream": "stdout",
       "text": [
        " 3 Complete z\n",
        "Iteration"
       ]
      },
      {
       "output_type": "stream",
       "stream": "stdout",
       "text": [
        " 3 Complete pi phi\n",
        "Perplexity: 58.1440880796\n",
        "Sampling 0 of 109 in ZS\n",
        "Iteration"
       ]
      },
      {
       "output_type": "stream",
       "stream": "stdout",
       "text": [
        " 4 Complete z\n",
        "Iteration"
       ]
      },
      {
       "output_type": "stream",
       "stream": "stdout",
       "text": [
        " 4 Complete pi phi\n",
        "Perplexity: 68.8064853973\n",
        "Sampling 0 of 109 in ZS\n",
        "Iteration"
       ]
      },
      {
       "output_type": "stream",
       "stream": "stdout",
       "text": [
        " 5 Complete z\n",
        "Iteration"
       ]
      },
      {
       "output_type": "stream",
       "stream": "stdout",
       "text": [
        " 5 Complete pi phi\n",
        "Perplexity: 63.259917907\n",
        "Sampling 0 of 109 in ZS\n",
        "Iteration"
       ]
      },
      {
       "output_type": "stream",
       "stream": "stdout",
       "text": [
        " 6 Complete z\n",
        "Iteration"
       ]
      },
      {
       "output_type": "stream",
       "stream": "stdout",
       "text": [
        " 6 Complete pi phi\n",
        "Perplexity: 51.2074951789\n",
        "Sampling 0 of 109 in ZS\n",
        "Iteration"
       ]
      },
      {
       "output_type": "stream",
       "stream": "stdout",
       "text": [
        " 7 Complete z\n",
        "Iteration"
       ]
      },
      {
       "output_type": "stream",
       "stream": "stdout",
       "text": [
        " 7 Complete pi phi\n",
        "Perplexity: 44.372322731\n",
        "Sampling 0 of 109 in ZS\n",
        "Iteration"
       ]
      },
      {
       "output_type": "stream",
       "stream": "stdout",
       "text": [
        " 8 Complete z\n",
        "Iteration"
       ]
      },
      {
       "output_type": "stream",
       "stream": "stdout",
       "text": [
        " 8 Complete pi phi\n",
        "Perplexity: 33.4967794615\n",
        "Sampling 0 of 109 in ZS\n",
        "Iteration"
       ]
      },
      {
       "output_type": "stream",
       "stream": "stdout",
       "text": [
        " 9 Complete z\n",
        "Iteration"
       ]
      },
      {
       "output_type": "stream",
       "stream": "stdout",
       "text": [
        " 9 Complete pi phi\n",
        "Perplexity: 40.0631535122\n",
        "Sampling 0 of 109 in ZS\n",
        "Iteration"
       ]
      },
      {
       "output_type": "stream",
       "stream": "stdout",
       "text": [
        " 10 Complete z\n",
        "Iteration"
       ]
      },
      {
       "output_type": "stream",
       "stream": "stdout",
       "text": [
        " 10 Complete pi phi\n",
        "Perplexity: 40.8926500824\n",
        "Sampling 0 of 109 in ZS\n",
        "Iteration"
       ]
      },
      {
       "output_type": "stream",
       "stream": "stdout",
       "text": [
        " 11 Complete z\n",
        "Iteration"
       ]
      },
      {
       "output_type": "stream",
       "stream": "stdout",
       "text": [
        " 11 Complete pi phi\n",
        "Perplexity: 42.5674186806\n",
        "Sampling 0 of 109 in ZS\n",
        "Iteration"
       ]
      },
      {
       "output_type": "stream",
       "stream": "stdout",
       "text": [
        " 12 Complete z\n",
        "Iteration"
       ]
      },
      {
       "output_type": "stream",
       "stream": "stdout",
       "text": [
        " 12 Complete pi phi\n",
        "Perplexity: 41.6109452461\n",
        "Sampling 0 of 109 in ZS\n",
        "Iteration"
       ]
      },
      {
       "output_type": "stream",
       "stream": "stdout",
       "text": [
        " 13 Complete z\n",
        "Iteration"
       ]
      },
      {
       "output_type": "stream",
       "stream": "stdout",
       "text": [
        " 13 Complete pi phi\n",
        "Perplexity: 35.9156439256\n",
        "Sampling 0 of 109 in ZS\n",
        "Iteration"
       ]
      },
      {
       "output_type": "stream",
       "stream": "stdout",
       "text": [
        " 14 Complete z\n",
        "Iteration"
       ]
      },
      {
       "output_type": "stream",
       "stream": "stdout",
       "text": [
        " 14 Complete pi phi\n",
        "Perplexity: 26.2419720196\n",
        "Sampling 0 of 109 in ZS\n",
        "Iteration"
       ]
      },
      {
       "output_type": "stream",
       "stream": "stdout",
       "text": [
        " 15 Complete z\n",
        "Iteration"
       ]
      },
      {
       "output_type": "stream",
       "stream": "stdout",
       "text": [
        " 15 Complete pi phi\n",
        "Perplexity: 29.2937063248\n",
        "Sampling 0 of 109 in ZS\n",
        "Iteration"
       ]
      },
      {
       "output_type": "stream",
       "stream": "stdout",
       "text": [
        " 16 Complete z\n",
        "Iteration"
       ]
      },
      {
       "output_type": "stream",
       "stream": "stdout",
       "text": [
        " 16 Complete pi phi\n",
        "Perplexity: 34.5079830594\n",
        "Sampling 0 of 109 in ZS\n",
        "Iteration"
       ]
      },
      {
       "output_type": "stream",
       "stream": "stdout",
       "text": [
        " 17 Complete z\n",
        "Iteration"
       ]
      },
      {
       "output_type": "stream",
       "stream": "stdout",
       "text": [
        " 17 Complete pi phi\n",
        "Perplexity: 26.9425505342\n",
        "Sampling 0 of 109 in ZS\n",
        "Iteration"
       ]
      },
      {
       "output_type": "stream",
       "stream": "stdout",
       "text": [
        " 18 Complete z\n",
        "Iteration"
       ]
      },
      {
       "output_type": "stream",
       "stream": "stdout",
       "text": [
        " 18 Complete pi phi\n",
        "Perplexity: 31.1861033809\n",
        "Sampling 0 of 109 in ZS\n",
        "Iteration"
       ]
      },
      {
       "output_type": "stream",
       "stream": "stdout",
       "text": [
        " 19 Complete z\n",
        "Iteration"
       ]
      },
      {
       "output_type": "stream",
       "stream": "stdout",
       "text": [
        " 19 Complete pi phi\n",
        "Perplexity: 27.9165534157\n",
        "Sampling 0 of 109 in ZS\n",
        "Iteration"
       ]
      },
      {
       "output_type": "stream",
       "stream": "stdout",
       "text": [
        " 20 Complete z\n",
        "Iteration"
       ]
      },
      {
       "output_type": "stream",
       "stream": "stdout",
       "text": [
        " 20 Complete pi phi\n",
        "Perplexity: 32.2626706977\n",
        "Sampling 0 of 109 in ZS\n",
        "Iteration"
       ]
      },
      {
       "output_type": "stream",
       "stream": "stdout",
       "text": [
        " 21 Complete z\n",
        "Iteration"
       ]
      },
      {
       "output_type": "stream",
       "stream": "stdout",
       "text": [
        " 21 Complete pi phi\n",
        "Perplexity: 37.1102104773\n",
        "Sampling 0 of 109 in ZS\n",
        "Iteration"
       ]
      },
      {
       "output_type": "stream",
       "stream": "stdout",
       "text": [
        " 22 Complete z\n",
        "Iteration"
       ]
      },
      {
       "output_type": "stream",
       "stream": "stdout",
       "text": [
        " 22 Complete pi phi\n",
        "Perplexity: 38.1650916132\n",
        "Sampling 0 of 109 in ZS\n",
        "Iteration"
       ]
      },
      {
       "output_type": "stream",
       "stream": "stdout",
       "text": [
        " 23 Complete z\n",
        "Iteration"
       ]
      },
      {
       "output_type": "stream",
       "stream": "stdout",
       "text": [
        " 23 Complete pi phi\n",
        "Perplexity: 24.8082495266\n",
        "Sampling 0 of 109 in ZS\n",
        "Iteration"
       ]
      },
      {
       "output_type": "stream",
       "stream": "stdout",
       "text": [
        " 24 Complete z\n",
        "Iteration"
       ]
      },
      {
       "output_type": "stream",
       "stream": "stdout",
       "text": [
        " 24 Complete pi phi\n",
        "Perplexity: 26.3491003877\n",
        "Sampling 0 of 109 in ZS\n",
        "Iteration"
       ]
      },
      {
       "output_type": "stream",
       "stream": "stdout",
       "text": [
        " 25 Complete z\n",
        "Iteration"
       ]
      },
      {
       "output_type": "stream",
       "stream": "stdout",
       "text": [
        " 25 Complete pi phi\n",
        "Perplexity: 31.748574322\n",
        "Sampling 0 of 109 in ZS\n",
        "Iteration"
       ]
      },
      {
       "output_type": "stream",
       "stream": "stdout",
       "text": [
        " 26 Complete z\n",
        "Iteration"
       ]
      },
      {
       "output_type": "stream",
       "stream": "stdout",
       "text": [
        " 26 Complete pi phi\n",
        "Perplexity: 30.6430860077\n",
        "Sampling 0 of 109 in ZS\n",
        "Iteration"
       ]
      },
      {
       "output_type": "stream",
       "stream": "stdout",
       "text": [
        " 27 Complete z\n",
        "Iteration"
       ]
      },
      {
       "output_type": "stream",
       "stream": "stdout",
       "text": [
        " 27 Complete pi phi\n",
        "Perplexity: 29.6403251933\n",
        "Sampling 0 of 109 in ZS\n",
        "Iteration"
       ]
      },
      {
       "output_type": "stream",
       "stream": "stdout",
       "text": [
        " 28 Complete z\n",
        "Iteration"
       ]
      },
      {
       "output_type": "stream",
       "stream": "stdout",
       "text": [
        " 28 Complete pi phi\n",
        "Perplexity: 29.1811129636\n",
        "Sampling 0 of 109 in ZS\n",
        "Iteration"
       ]
      },
      {
       "output_type": "stream",
       "stream": "stdout",
       "text": [
        " 29 Complete z\n",
        "Iteration"
       ]
      },
      {
       "output_type": "stream",
       "stream": "stdout",
       "text": [
        " 29 Complete pi phi\n",
        "Perplexity: 25.2412326209\n",
        "Sampling 0 of 109 in ZS\n",
        "Iteration"
       ]
      },
      {
       "output_type": "stream",
       "stream": "stdout",
       "text": [
        " 30 Complete z\n",
        "Iteration"
       ]
      },
      {
       "output_type": "stream",
       "stream": "stdout",
       "text": [
        " 30 Complete pi phi\n",
        "Perplexity: 27.5937661257\n",
        "Sampling 0 of 109 in ZS\n",
        "Iteration"
       ]
      },
      {
       "output_type": "stream",
       "stream": "stdout",
       "text": [
        " 31 Complete z\n",
        "Iteration"
       ]
      },
      {
       "output_type": "stream",
       "stream": "stdout",
       "text": [
        " 31 Complete pi phi\n",
        "Perplexity: 25.6295709695\n",
        "Sampling 0 of 109 in ZS\n",
        "Iteration"
       ]
      },
      {
       "output_type": "stream",
       "stream": "stdout",
       "text": [
        " 32 Complete z\n",
        "Iteration"
       ]
      },
      {
       "output_type": "stream",
       "stream": "stdout",
       "text": [
        " 32 Complete pi phi\n",
        "Perplexity: 32.783528937\n",
        "Sampling 0 of 109 in ZS\n",
        "Iteration"
       ]
      },
      {
       "output_type": "stream",
       "stream": "stdout",
       "text": [
        " 33 Complete z\n",
        "Iteration"
       ]
      },
      {
       "output_type": "stream",
       "stream": "stdout",
       "text": [
        " 33 Complete pi phi\n",
        "Perplexity: 29.7616637715\n",
        "Sampling 0 of 109 in ZS\n",
        "Iteration"
       ]
      },
      {
       "output_type": "stream",
       "stream": "stdout",
       "text": [
        " 34 Complete z\n",
        "Iteration"
       ]
      },
      {
       "output_type": "stream",
       "stream": "stdout",
       "text": [
        " 34 Complete pi phi\n",
        "Perplexity: 28.73322239\n",
        "Sampling 0 of 109 in ZS\n",
        "Iteration"
       ]
      },
      {
       "output_type": "stream",
       "stream": "stdout",
       "text": [
        " 35 Complete z\n",
        "Iteration"
       ]
      },
      {
       "output_type": "stream",
       "stream": "stdout",
       "text": [
        " 35 Complete pi phi\n",
        "Perplexity: 36.0722351487\n",
        "Sampling 0 of 109 in ZS\n",
        "Iteration"
       ]
      },
      {
       "output_type": "stream",
       "stream": "stdout",
       "text": [
        " 36 Complete z\n",
        "Iteration"
       ]
      },
      {
       "output_type": "stream",
       "stream": "stdout",
       "text": [
        " 36 Complete pi phi\n",
        "Perplexity: 34.4121299992\n",
        "Sampling 0 of 109 in ZS\n",
        "Iteration"
       ]
      },
      {
       "output_type": "stream",
       "stream": "stdout",
       "text": [
        " 37 Complete z\n",
        "Iteration"
       ]
      },
      {
       "output_type": "stream",
       "stream": "stdout",
       "text": [
        " 37 Complete pi phi\n",
        "Perplexity: 29.6719001528\n",
        "Sampling 0 of 109 in ZS\n",
        "Iteration"
       ]
      },
      {
       "output_type": "stream",
       "stream": "stdout",
       "text": [
        " 38 Complete z\n",
        "Iteration"
       ]
      },
      {
       "output_type": "stream",
       "stream": "stdout",
       "text": [
        " 38 Complete pi phi\n",
        "Perplexity: 27.5105254645\n",
        "Sampling 0 of 109 in ZS\n",
        "Iteration"
       ]
      },
      {
       "output_type": "stream",
       "stream": "stdout",
       "text": [
        " 39 Complete z\n",
        "Iteration"
       ]
      },
      {
       "output_type": "stream",
       "stream": "stdout",
       "text": [
        " 39 Complete pi phi\n",
        "Perplexity: 28.0894129565\n",
        "Sampling 0 of 109 in ZS\n",
        "Iteration"
       ]
      },
      {
       "output_type": "stream",
       "stream": "stdout",
       "text": [
        " 40 Complete z\n",
        "Iteration"
       ]
      },
      {
       "output_type": "stream",
       "stream": "stdout",
       "text": [
        " 40 Complete pi phi\n",
        "Perplexity: 26.8331231663\n",
        "Sampling 0 of 109 in ZS\n",
        "Iteration"
       ]
      },
      {
       "output_type": "stream",
       "stream": "stdout",
       "text": [
        " 41 Complete z\n",
        "Iteration"
       ]
      },
      {
       "output_type": "stream",
       "stream": "stdout",
       "text": [
        " 41 Complete pi phi\n",
        "Perplexity: 27.0955811286\n",
        "Sampling 0 of 109 in ZS\n",
        "Iteration"
       ]
      },
      {
       "output_type": "stream",
       "stream": "stdout",
       "text": [
        " 42 Complete z\n",
        "Iteration"
       ]
      },
      {
       "output_type": "stream",
       "stream": "stdout",
       "text": [
        " 42 Complete pi phi\n",
        "Perplexity: 26.8808503123\n",
        "Sampling 0 of 109 in ZS\n",
        "Iteration"
       ]
      },
      {
       "output_type": "stream",
       "stream": "stdout",
       "text": [
        " 43 Complete z\n",
        "Iteration"
       ]
      },
      {
       "output_type": "stream",
       "stream": "stdout",
       "text": [
        " 43 Complete pi phi\n",
        "Perplexity: 27.9328280698\n",
        "Sampling 0 of 109 in ZS\n",
        "Iteration"
       ]
      },
      {
       "output_type": "stream",
       "stream": "stdout",
       "text": [
        " 44 Complete z\n",
        "Iteration"
       ]
      },
      {
       "output_type": "stream",
       "stream": "stdout",
       "text": [
        " 44 Complete pi phi\n",
        "Perplexity: 27.3735378413\n",
        "Sampling 0 of 109 in ZS\n",
        "Iteration"
       ]
      },
      {
       "output_type": "stream",
       "stream": "stdout",
       "text": [
        " 45 Complete z\n",
        "Iteration"
       ]
      },
      {
       "output_type": "stream",
       "stream": "stdout",
       "text": [
        " 45 Complete pi phi\n",
        "Perplexity: 30.4555613179\n",
        "Sampling 0 of 109 in ZS\n",
        "Iteration"
       ]
      },
      {
       "output_type": "stream",
       "stream": "stdout",
       "text": [
        " 46 Complete z\n",
        "Iteration"
       ]
      },
      {
       "output_type": "stream",
       "stream": "stdout",
       "text": [
        " 46 Complete pi phi\n",
        "Perplexity: 27.4890962207\n",
        "Sampling 0 of 109 in ZS\n",
        "Iteration"
       ]
      },
      {
       "output_type": "stream",
       "stream": "stdout",
       "text": [
        " 47 Complete z\n",
        "Iteration"
       ]
      },
      {
       "output_type": "stream",
       "stream": "stdout",
       "text": [
        " 47 Complete pi phi\n",
        "Perplexity: 30.3834104181\n",
        "Sampling 0 of 109 in ZS\n",
        "Iteration"
       ]
      },
      {
       "output_type": "stream",
       "stream": "stdout",
       "text": [
        " 48 Complete z\n",
        "Iteration"
       ]
      },
      {
       "output_type": "stream",
       "stream": "stdout",
       "text": [
        " 48 Complete pi phi\n",
        "Perplexity: 31.2935368925\n",
        "Sampling 0 of 109 in ZS\n",
        "Iteration"
       ]
      },
      {
       "output_type": "stream",
       "stream": "stdout",
       "text": [
        " 49 Complete z\n",
        "Iteration"
       ]
      },
      {
       "output_type": "stream",
       "stream": "stdout",
       "text": [
        " 49 Complete pi phi\n",
        "Perplexity: 33.9441010406\n",
        "Sampling 0 of 109 in ZS\n",
        "Iteration"
       ]
      },
      {
       "output_type": "stream",
       "stream": "stdout",
       "text": [
        " 50 Complete z\n",
        "Iteration"
       ]
      },
      {
       "output_type": "stream",
       "stream": "stdout",
       "text": [
        " 50 Complete pi phi\n",
        "Perplexity: 34.7118450431\n",
        "Sampling 0 of 109 in ZS\n",
        "Iteration"
       ]
      },
      {
       "output_type": "stream",
       "stream": "stdout",
       "text": [
        " 51 Complete z\n",
        "Iteration"
       ]
      },
      {
       "output_type": "stream",
       "stream": "stdout",
       "text": [
        " 51 Complete pi phi\n",
        "Perplexity: 31.2226366218\n",
        "Sampling 0 of 109 in ZS\n",
        "Iteration"
       ]
      },
      {
       "output_type": "stream",
       "stream": "stdout",
       "text": [
        " 52 Complete z\n",
        "Iteration"
       ]
      },
      {
       "output_type": "stream",
       "stream": "stdout",
       "text": [
        " 52 Complete pi phi\n",
        "Perplexity: 38.1773820901\n",
        "Sampling 0 of 109 in ZS\n",
        "Iteration"
       ]
      },
      {
       "output_type": "stream",
       "stream": "stdout",
       "text": [
        " 53 Complete z\n",
        "Iteration"
       ]
      },
      {
       "output_type": "stream",
       "stream": "stdout",
       "text": [
        " 53 Complete pi phi\n",
        "Perplexity: 35.7813100304\n",
        "Sampling 0 of 109 in ZS\n",
        "Iteration"
       ]
      },
      {
       "output_type": "stream",
       "stream": "stdout",
       "text": [
        " 54 Complete z\n",
        "Iteration"
       ]
      },
      {
       "output_type": "stream",
       "stream": "stdout",
       "text": [
        " 54 Complete pi phi\n",
        "Perplexity: 30.3838561335\n",
        "Sampling 0 of 109 in ZS\n",
        "Iteration"
       ]
      },
      {
       "output_type": "stream",
       "stream": "stdout",
       "text": [
        " 55 Complete z\n",
        "Iteration"
       ]
      },
      {
       "output_type": "stream",
       "stream": "stdout",
       "text": [
        " 55 Complete pi phi\n",
        "Perplexity: 27.6194351927\n",
        "Sampling 0 of 109 in ZS\n",
        "Iteration"
       ]
      },
      {
       "output_type": "stream",
       "stream": "stdout",
       "text": [
        " 56 Complete z\n",
        "Iteration"
       ]
      },
      {
       "output_type": "stream",
       "stream": "stdout",
       "text": [
        " 56 Complete pi phi\n",
        "Perplexity: 26.2968079723\n",
        "Sampling 0 of 109 in ZS\n",
        "Iteration"
       ]
      },
      {
       "output_type": "stream",
       "stream": "stdout",
       "text": [
        " 57 Complete z\n",
        "Iteration"
       ]
      },
      {
       "output_type": "stream",
       "stream": "stdout",
       "text": [
        " 57 Complete pi phi\n",
        "Perplexity: 29.8317409976\n",
        "Sampling 0 of 109 in ZS\n",
        "Iteration"
       ]
      },
      {
       "output_type": "stream",
       "stream": "stdout",
       "text": [
        " 58 Complete z\n",
        "Iteration"
       ]
      },
      {
       "output_type": "stream",
       "stream": "stdout",
       "text": [
        " 58 Complete pi phi\n",
        "Perplexity: 28.6830368159\n",
        "Sampling 0 of 109 in ZS\n",
        "Iteration"
       ]
      },
      {
       "output_type": "stream",
       "stream": "stdout",
       "text": [
        " 59 Complete z\n",
        "Iteration"
       ]
      },
      {
       "output_type": "stream",
       "stream": "stdout",
       "text": [
        " 59 Complete pi phi\n",
        "Perplexity: 24.975611321\n",
        "Sampling 0 of 109 in ZS\n",
        "Iteration"
       ]
      },
      {
       "output_type": "stream",
       "stream": "stdout",
       "text": [
        " 60 Complete z\n",
        "Iteration"
       ]
      },
      {
       "output_type": "stream",
       "stream": "stdout",
       "text": [
        " 60 Complete pi phi\n",
        "Perplexity: 32.6853488039\n",
        "Sampling 0 of 109 in ZS\n",
        "Iteration"
       ]
      },
      {
       "output_type": "stream",
       "stream": "stdout",
       "text": [
        " 61 Complete z\n",
        "Iteration"
       ]
      },
      {
       "output_type": "stream",
       "stream": "stdout",
       "text": [
        " 61 Complete pi phi\n",
        "Perplexity: 26.8609686595\n",
        "Sampling 0 of 109 in ZS\n",
        "Iteration"
       ]
      },
      {
       "output_type": "stream",
       "stream": "stdout",
       "text": [
        " 62 Complete z\n",
        "Iteration"
       ]
      },
      {
       "output_type": "stream",
       "stream": "stdout",
       "text": [
        " 62 Complete pi phi\n",
        "Perplexity: 25.9713608541\n",
        "Sampling 0 of 109 in ZS\n",
        "Iteration"
       ]
      },
      {
       "output_type": "stream",
       "stream": "stdout",
       "text": [
        " 63 Complete z\n",
        "Iteration"
       ]
      },
      {
       "output_type": "stream",
       "stream": "stdout",
       "text": [
        " 63 Complete pi phi\n",
        "Perplexity: 16.2116440098\n",
        "Sampling 0 of 109 in ZS\n",
        "Iteration"
       ]
      },
      {
       "output_type": "stream",
       "stream": "stdout",
       "text": [
        " 64 Complete z\n",
        "Iteration"
       ]
      },
      {
       "output_type": "stream",
       "stream": "stdout",
       "text": [
        " 64 Complete pi phi\n",
        "Perplexity: 18.5219507434\n",
        "Sampling 0 of 109 in ZS\n",
        "Iteration"
       ]
      },
      {
       "output_type": "stream",
       "stream": "stdout",
       "text": [
        " 65 Complete z\n",
        "Iteration"
       ]
      },
      {
       "output_type": "stream",
       "stream": "stdout",
       "text": [
        " 65 Complete pi phi\n",
        "Perplexity: 16.9253237734\n",
        "Sampling 0 of 109 in ZS\n",
        "Iteration"
       ]
      },
      {
       "output_type": "stream",
       "stream": "stdout",
       "text": [
        " 66 Complete z\n",
        "Iteration"
       ]
      },
      {
       "output_type": "stream",
       "stream": "stdout",
       "text": [
        " 66 Complete pi phi\n",
        "Perplexity: 21.0984697263\n",
        "Sampling 0 of 109 in ZS\n",
        "Iteration"
       ]
      },
      {
       "output_type": "stream",
       "stream": "stdout",
       "text": [
        " 67 Complete z\n",
        "Iteration"
       ]
      },
      {
       "output_type": "stream",
       "stream": "stdout",
       "text": [
        " 67 Complete pi phi\n",
        "Perplexity: 32.9874536915\n",
        "Sampling 0 of 109 in ZS\n",
        "Iteration"
       ]
      },
      {
       "output_type": "stream",
       "stream": "stdout",
       "text": [
        " 68 Complete z\n",
        "Iteration"
       ]
      },
      {
       "output_type": "stream",
       "stream": "stdout",
       "text": [
        " 68 Complete pi phi\n",
        "Perplexity: 24.8893584525\n",
        "Sampling 0 of 109 in ZS\n",
        "Iteration"
       ]
      },
      {
       "output_type": "stream",
       "stream": "stdout",
       "text": [
        " 69 Complete z\n",
        "Iteration"
       ]
      },
      {
       "output_type": "stream",
       "stream": "stdout",
       "text": [
        " 69 Complete pi phi\n",
        "Perplexity: 19.2650000468\n",
        "Sampling 0 of 109 in ZS\n",
        "Iteration"
       ]
      },
      {
       "output_type": "stream",
       "stream": "stdout",
       "text": [
        " 70 Complete z\n",
        "Iteration"
       ]
      },
      {
       "output_type": "stream",
       "stream": "stdout",
       "text": [
        " 70 Complete pi phi\n",
        "Perplexity: 19.103935618\n",
        "Sampling 0 of 109 in ZS\n",
        "Iteration"
       ]
      },
      {
       "output_type": "stream",
       "stream": "stdout",
       "text": [
        " 71 Complete z\n",
        "Iteration"
       ]
      },
      {
       "output_type": "stream",
       "stream": "stdout",
       "text": [
        " 71 Complete pi phi\n",
        "Perplexity: 21.163248887\n",
        "Sampling 0 of 109 in ZS\n",
        "Iteration"
       ]
      },
      {
       "output_type": "stream",
       "stream": "stdout",
       "text": [
        " 72 Complete z\n",
        "Iteration"
       ]
      },
      {
       "output_type": "stream",
       "stream": "stdout",
       "text": [
        " 72 Complete pi phi\n",
        "Perplexity: 25.6442912423\n",
        "Sampling 0 of 109 in ZS\n",
        "Iteration"
       ]
      },
      {
       "output_type": "stream",
       "stream": "stdout",
       "text": [
        " 73 Complete z\n",
        "Iteration"
       ]
      },
      {
       "output_type": "stream",
       "stream": "stdout",
       "text": [
        " 73 Complete pi phi\n",
        "Perplexity: 32.9245825033\n",
        "Sampling 0 of 109 in ZS\n",
        "Iteration"
       ]
      },
      {
       "output_type": "stream",
       "stream": "stdout",
       "text": [
        " 74 Complete z\n",
        "Iteration"
       ]
      },
      {
       "output_type": "stream",
       "stream": "stdout",
       "text": [
        " 74 Complete pi phi\n",
        "Perplexity: 23.2512094979\n",
        "Sampling 0 of 109 in ZS\n",
        "Iteration"
       ]
      },
      {
       "output_type": "stream",
       "stream": "stdout",
       "text": [
        " 75 Complete z\n",
        "Iteration"
       ]
      },
      {
       "output_type": "stream",
       "stream": "stdout",
       "text": [
        " 75 Complete pi phi\n",
        "Perplexity: 19.1907809843\n",
        "Sampling 0 of 109 in ZS\n",
        "Iteration"
       ]
      },
      {
       "output_type": "stream",
       "stream": "stdout",
       "text": [
        " 76 Complete z\n",
        "Iteration"
       ]
      },
      {
       "output_type": "stream",
       "stream": "stdout",
       "text": [
        " 76 Complete pi phi\n",
        "Perplexity: 20.3418078107\n",
        "Sampling 0 of 109 in ZS\n",
        "Iteration"
       ]
      },
      {
       "output_type": "stream",
       "stream": "stdout",
       "text": [
        " 77 Complete z\n",
        "Iteration"
       ]
      },
      {
       "output_type": "stream",
       "stream": "stdout",
       "text": [
        " 77 Complete pi phi\n",
        "Perplexity: 27.6262865601\n",
        "Sampling 0 of 109 in ZS\n",
        "Iteration"
       ]
      },
      {
       "output_type": "stream",
       "stream": "stdout",
       "text": [
        " 78 Complete z\n",
        "Iteration"
       ]
      },
      {
       "output_type": "stream",
       "stream": "stdout",
       "text": [
        " 78 Complete pi phi\n",
        "Perplexity: 24.9914729383\n",
        "Sampling 0 of 109 in ZS\n",
        "Iteration"
       ]
      },
      {
       "output_type": "stream",
       "stream": "stdout",
       "text": [
        " 79 Complete z\n",
        "Iteration"
       ]
      },
      {
       "output_type": "stream",
       "stream": "stdout",
       "text": [
        " 79 Complete pi phi\n",
        "Perplexity: 32.2157593181\n",
        "Sampling 0 of 109 in ZS\n",
        "Iteration"
       ]
      },
      {
       "output_type": "stream",
       "stream": "stdout",
       "text": [
        " 80 Complete z\n",
        "Iteration"
       ]
      },
      {
       "output_type": "stream",
       "stream": "stdout",
       "text": [
        " 80 Complete pi phi\n",
        "Perplexity: 19.2789268622\n",
        "Sampling 0 of 109 in ZS\n",
        "Iteration"
       ]
      },
      {
       "output_type": "stream",
       "stream": "stdout",
       "text": [
        " 81 Complete z\n",
        "Iteration"
       ]
      },
      {
       "output_type": "stream",
       "stream": "stdout",
       "text": [
        " 81 Complete pi phi\n",
        "Perplexity: 26.7634149054\n",
        "Sampling 0 of 109 in ZS\n",
        "Iteration"
       ]
      },
      {
       "output_type": "stream",
       "stream": "stdout",
       "text": [
        " 82 Complete z\n",
        "Iteration"
       ]
      },
      {
       "output_type": "stream",
       "stream": "stdout",
       "text": [
        " 82 Complete pi phi\n",
        "Perplexity: 28.5116053285\n",
        "Sampling 0 of 109 in ZS\n",
        "Iteration"
       ]
      },
      {
       "output_type": "stream",
       "stream": "stdout",
       "text": [
        " 83 Complete z\n",
        "Iteration"
       ]
      },
      {
       "output_type": "stream",
       "stream": "stdout",
       "text": [
        " 83 Complete pi phi\n",
        "Perplexity: 45.9011199874\n",
        "Sampling 0 of 109 in ZS\n",
        "Iteration"
       ]
      },
      {
       "output_type": "stream",
       "stream": "stdout",
       "text": [
        " 84 Complete z\n",
        "Iteration"
       ]
      },
      {
       "output_type": "stream",
       "stream": "stdout",
       "text": [
        " 84 Complete pi phi\n",
        "Perplexity: 37.9071725279\n",
        "Sampling 0 of 109 in ZS\n",
        "Iteration"
       ]
      },
      {
       "output_type": "stream",
       "stream": "stdout",
       "text": [
        " 85 Complete z\n",
        "Iteration"
       ]
      },
      {
       "output_type": "stream",
       "stream": "stdout",
       "text": [
        " 85 Complete pi phi\n",
        "Perplexity: 29.4981915723\n",
        "Sampling 0 of 109 in ZS\n",
        "Iteration"
       ]
      },
      {
       "output_type": "stream",
       "stream": "stdout",
       "text": [
        " 86 Complete z\n",
        "Iteration"
       ]
      },
      {
       "output_type": "stream",
       "stream": "stdout",
       "text": [
        " 86 Complete pi phi\n",
        "Perplexity: 29.3850134782\n",
        "Sampling 0 of 109 in ZS\n",
        "Iteration"
       ]
      },
      {
       "output_type": "stream",
       "stream": "stdout",
       "text": [
        " 87 Complete z\n",
        "Iteration"
       ]
      },
      {
       "output_type": "stream",
       "stream": "stdout",
       "text": [
        " 87 Complete pi phi\n",
        "Perplexity: 31.4267583121\n",
        "Sampling 0 of 109 in ZS\n",
        "Iteration"
       ]
      },
      {
       "output_type": "stream",
       "stream": "stdout",
       "text": [
        " 88 Complete z\n",
        "Iteration"
       ]
      },
      {
       "output_type": "stream",
       "stream": "stdout",
       "text": [
        " 88 Complete pi phi\n",
        "Perplexity: 35.440999602\n",
        "Sampling 0 of 109 in ZS\n",
        "Iteration"
       ]
      },
      {
       "output_type": "stream",
       "stream": "stdout",
       "text": [
        " 89 Complete z\n",
        "Iteration"
       ]
      },
      {
       "output_type": "stream",
       "stream": "stdout",
       "text": [
        " 89 Complete pi phi\n",
        "Perplexity: 30.6128280465\n",
        "Sampling 0 of 109 in ZS\n",
        "Iteration"
       ]
      },
      {
       "output_type": "stream",
       "stream": "stdout",
       "text": [
        " 90 Complete z\n",
        "Iteration"
       ]
      },
      {
       "output_type": "stream",
       "stream": "stdout",
       "text": [
        " 90 Complete pi phi\n",
        "Perplexity: 35.0445620968\n",
        "Sampling 0 of 109 in ZS\n",
        "Iteration"
       ]
      },
      {
       "output_type": "stream",
       "stream": "stdout",
       "text": [
        " 91 Complete z\n",
        "Iteration"
       ]
      },
      {
       "output_type": "stream",
       "stream": "stdout",
       "text": [
        " 91 Complete pi phi\n",
        "Perplexity: 27.7114025583\n",
        "Sampling 0 of 109 in ZS\n",
        "Iteration"
       ]
      },
      {
       "output_type": "stream",
       "stream": "stdout",
       "text": [
        " 92 Complete z\n",
        "Iteration"
       ]
      },
      {
       "output_type": "stream",
       "stream": "stdout",
       "text": [
        " 92 Complete pi phi\n",
        "Perplexity: 31.1249264202\n",
        "Sampling 0 of 109 in ZS\n",
        "Iteration"
       ]
      },
      {
       "output_type": "stream",
       "stream": "stdout",
       "text": [
        " 93 Complete z\n",
        "Iteration"
       ]
      },
      {
       "output_type": "stream",
       "stream": "stdout",
       "text": [
        " 93 Complete pi phi\n",
        "Perplexity: 33.5488943584\n",
        "Sampling 0 of 109 in ZS\n",
        "Iteration"
       ]
      },
      {
       "output_type": "stream",
       "stream": "stdout",
       "text": [
        " 94 Complete z\n",
        "Iteration"
       ]
      },
      {
       "output_type": "stream",
       "stream": "stdout",
       "text": [
        " 94 Complete pi phi\n",
        "Perplexity: 40.3285103181\n",
        "Sampling 0 of 109 in ZS\n",
        "Iteration"
       ]
      },
      {
       "output_type": "stream",
       "stream": "stdout",
       "text": [
        " 95 Complete z\n",
        "Iteration"
       ]
      },
      {
       "output_type": "stream",
       "stream": "stdout",
       "text": [
        " 95 Complete pi phi\n",
        "Perplexity: 39.5661735742\n",
        "Sampling 0 of 109 in ZS\n",
        "Iteration"
       ]
      },
      {
       "output_type": "stream",
       "stream": "stdout",
       "text": [
        " 96 Complete z\n",
        "Iteration"
       ]
      },
      {
       "output_type": "stream",
       "stream": "stdout",
       "text": [
        " 96 Complete pi phi\n",
        "Perplexity: 39.3197504511\n",
        "Sampling 0 of 109 in ZS\n",
        "Iteration"
       ]
      },
      {
       "output_type": "stream",
       "stream": "stdout",
       "text": [
        " 97 Complete z\n",
        "Iteration"
       ]
      },
      {
       "output_type": "stream",
       "stream": "stdout",
       "text": [
        " 97 Complete pi phi\n",
        "Perplexity: 36.6244294829\n",
        "Sampling 0 of 109 in ZS\n",
        "Iteration"
       ]
      },
      {
       "output_type": "stream",
       "stream": "stdout",
       "text": [
        " 98 Complete z\n",
        "Iteration"
       ]
      },
      {
       "output_type": "stream",
       "stream": "stdout",
       "text": [
        " 98 Complete pi phi\n",
        "Perplexity: 28.1911032714\n",
        "Sampling 0 of 109 in ZS\n",
        "Iteration"
       ]
      },
      {
       "output_type": "stream",
       "stream": "stdout",
       "text": [
        " 99 Complete z\n",
        "Iteration"
       ]
      },
      {
       "output_type": "stream",
       "stream": "stdout",
       "text": [
        " 99 Complete pi phi\n",
        "Perplexity: 24.1847759228\n"
       ]
      },
      {
       "metadata": {},
       "output_type": "pyout",
       "prompt_number": 2,
       "text": [
        "147.40301513671875"
       ]
      }
     ],
     "prompt_number": 2
    },
    {
     "cell_type": "code",
     "collapsed": false,
     "input": [
      "model.write_to_file('simulation_results')"
     ],
     "language": "python",
     "metadata": {},
     "outputs": [],
     "prompt_number": 3
    }
   ],
   "metadata": {}
  }
 ]
}