{
 "metadata": {
  "name": "",
  "signature": "sha256:bcadb551903668ba4a5dd144b5bb26d0af2686666d609004a6038c181ad85df3"
 },
 "nbformat": 3,
 "nbformat_minor": 0,
 "worksheets": [
  {
   "cells": [
    {
     "cell_type": "code",
     "collapsed": false,
     "input": [
      "import numpy as np\n",
      "np.random.seed(2)\n",
      "# generate topics\n",
      "n_docs = 10\n",
      "n_vocab = 50\n",
      "\n",
      "alpha = 1\n",
      "gamma = 5\n",
      "eta = 0.1\n",
      "\n",
      "pi = []\n",
      "stick_length = 1\n",
      "while stick_length > 0.01:\n",
      "    mu = np.random.beta(alpha, 1)\n",
      "    pi.append(stick_length*mu)\n",
      "    stick_length = mu*stick_length\n",
      "\n",
      "pi = np.array(pi[0:-1])\n",
      "phi = np.random.gamma(shape = gamma, scale = 1, size = pi.shape)\n",
      "\n",
      "beta = []\n",
      "for i in range(len(pi)):\n",
      "    beta.append(np.random.dirichlet(np.ones(n_vocab)*eta))\n",
      "\n",
      "print(\"pi:\", pi)\n",
      "print(\"phi:\", phi)\n",
      "print(\"beta:\", beta)\n",
      "\n",
      "WS = []\n",
      "DS = []\n",
      "ZS = []\n",
      "theta = []\n",
      "# generate word lists per document\n",
      "for m in range(n_docs):\n",
      "    b_m = np.random.binomial(1,pi)\n",
      "    n_m = np.random.negative_binomial(np.sum(np.multiply(b_m,phi)), 0.5)\n",
      "    theta_m = np.random.dirichlet(np.multiply(b_m,phi))\n",
      "    theta.append(theta_m)\n",
      "    for i in range(n_m):\n",
      "        z = np.random.multinomial(1,theta_m)\n",
      "        z = np.ndarray.item(np.argwhere(z==1).squeeze())\n",
      "        ZS.append(z)\n",
      "        DS.append(m)\n",
      "        WS.append(np.ndarray.item(np.argwhere(np.random.multinomial(1, beta[z])==1).squeeze()))\n",
      "\n",
      "ZS = np.array(ZS)\n",
      "DS = np.array(DS)\n",
      "WS = np.array(WS)\n",
      "print(\"theta:\", theta)\n",
      "        \n",
      "# from LDA utils\n",
      "def lists_to_matrix(WS, DS):\n",
      "    \"\"\"Convert array of word (or topic) and document indices to doc-term array\n",
      "    Parameters\n",
      "    -----------\n",
      "    (WS, DS) : tuple of two arrays\n",
      "        WS[k] contains the kth word in the corpus\n",
      "        DS[k] contains the document index for the kth word\n",
      "    Returns\n",
      "    -------\n",
      "    doc_word : array (D, V)\n",
      "        document-term array of counts\n",
      "    \"\"\"\n",
      "    D = max(DS) + 1\n",
      "    V = max(WS) + 1\n",
      "\n",
      "    doc_word = np.empty((D, V), dtype=np.intc)\n",
      "\n",
      "    for d in range(D):\n",
      "        for v in range(V):\n",
      "            \n",
      "            doc_word[d, v] = np.count_nonzero(WS[DS == d] == v)\n",
      "            #print(doc_word[d,v])\n",
      "    return doc_word\n",
      "\n",
      "#print(WS)\n",
      "#print(DS)\n",
      "\n",
      "data = lists_to_matrix(WS, DS)\n",
      "\n",
      "#print(data)"
     ],
     "language": "python",
     "metadata": {},
     "outputs": [
      {
       "output_type": "stream",
       "stream": "stdout",
       "text": [
        "pi: [ 0.94387303  0.52672037  0.2949454   0.07325978  0.03875258]\n",
        "phi: [ 5.93071262  3.49365069  3.23034621  4.6861906   5.24315456]\n",
        "beta: [array([  5.13471618e-11,   7.20125495e-06,   2.93003915e-08,\n",
        "         1.81544461e-04,   1.97146291e-05,   1.13030340e-03,\n",
        "         7.49082090e-03,   2.56245633e-04,   5.67853094e-06,\n",
        "         5.35441353e-05,   2.09232630e-02,   2.08088255e-01,\n",
        "         3.64793227e-12,   5.21694683e-02,   5.82036989e-17,\n",
        "         4.88629729e-13,   3.27252084e-01,   1.63504307e-03,\n",
        "         5.05289757e-09,   4.09968895e-04,   1.03763922e-14,\n",
        "         7.35806334e-05,   3.29747342e-06,   1.97132198e-05,\n",
        "         1.23614068e-02,   3.66526337e-20,   5.28054958e-07,\n",
        "         3.11137918e-17,   2.00384172e-05,   3.96624243e-05,\n",
        "         6.76434333e-04,   8.73089896e-11,   4.26981119e-15,\n",
        "         3.96207964e-03,   4.14644340e-05,   4.20784461e-03,\n",
        "         7.44486690e-02,   4.88031013e-10,   1.45349606e-02,\n",
        "         5.88358996e-04,   1.14466437e-01,   6.49576006e-06,\n",
        "         1.07899409e-01,   5.55087432e-04,   3.89043021e-02,\n",
        "         7.79019267e-09,   2.06222315e-04,   7.36018979e-03,\n",
        "         1.34472024e-08,   6.27088007e-07]), array([  2.89523275e-03,   1.57673895e-08,   1.00494342e-06,\n",
        "         1.07234081e-06,   7.45325305e-04,   1.34830122e-07,\n",
        "         3.57700897e-09,   7.00386700e-08,   4.18757176e-03,\n",
        "         2.63545403e-16,   8.95962649e-03,   2.13017567e-16,\n",
        "         1.51219953e-03,   4.42532625e-13,   2.75627294e-05,\n",
        "         2.75385175e-08,   6.78330510e-05,   1.26782721e-06,\n",
        "         2.35108301e-01,   4.29974776e-08,   8.95647695e-05,\n",
        "         4.79014291e-04,   4.28762036e-09,   9.39398266e-03,\n",
        "         2.38495328e-02,   2.52240019e-01,   1.98737381e-04,\n",
        "         6.40847236e-02,   5.75647736e-02,   3.06863178e-17,\n",
        "         3.66914874e-11,   9.87477643e-07,   2.31606222e-05,\n",
        "         1.08026757e-03,   8.66362351e-03,   3.27298798e-04,\n",
        "         1.44489074e-24,   9.56485286e-04,   6.05802180e-03,\n",
        "         1.44230870e-01,   3.88774293e-02,   7.43627912e-06,\n",
        "         7.15806701e-02,   7.96101990e-06,   3.39908812e-02,\n",
        "         4.04589206e-08,   5.94472214e-11,   8.20884365e-08,\n",
        "         1.10696489e-02,   2.17174906e-02]), array([  4.82342834e-08,   1.85108661e-05,   1.48186451e-03,\n",
        "         2.58623347e-02,   4.01931104e-09,   6.81926579e-05,\n",
        "         3.13303086e-03,   1.01443564e-07,   8.20084862e-03,\n",
        "         2.13557184e-02,   1.22620322e-10,   6.49879068e-07,\n",
        "         1.20709991e-12,   2.64805184e-05,   3.20980315e-12,\n",
        "         1.47069123e-11,   4.21941585e-03,   2.62203449e-01,\n",
        "         7.66093379e-05,   3.68243076e-04,   1.60481807e-04,\n",
        "         1.99506259e-02,   3.82444449e-01,   1.83228147e-02,\n",
        "         5.58991527e-03,   9.34901763e-02,   1.44731597e-03,\n",
        "         1.09637797e-03,   1.82560791e-09,   1.80452013e-02,\n",
        "         5.65484499e-05,   1.79532308e-07,   3.11839536e-05,\n",
        "         6.43042634e-06,   1.08711235e-08,   6.15617698e-06,\n",
        "         1.26362833e-10,   3.49395777e-02,   4.79534675e-07,\n",
        "         2.19184182e-03,   7.36791288e-06,   9.44926418e-02,\n",
        "         2.33689077e-04,   1.06916191e-07,   3.54699305e-04,\n",
        "         7.02892380e-22,   1.39511576e-07,   2.95350344e-06,\n",
        "         1.19953136e-13,   1.13130804e-04]), array([  8.88400262e-02,   7.39961279e-05,   7.01470222e-07,\n",
        "         2.86516163e-08,   7.72320922e-11,   1.96991633e-03,\n",
        "         4.44983554e-02,   1.15634889e-03,   2.09717512e-06,\n",
        "         3.06924804e-02,   1.32661317e-04,   3.06831115e-10,\n",
        "         1.71984121e-04,   2.65065189e-06,   1.42938929e-02,\n",
        "         1.54388107e-03,   1.36464919e-11,   2.25118324e-02,\n",
        "         1.25257913e-08,   1.24774812e-06,   2.01334474e-02,\n",
        "         4.28536369e-08,   1.64388407e-01,   2.00496767e-09,\n",
        "         4.52876453e-10,   1.77888810e-02,   9.16021755e-04,\n",
        "         2.76542941e-07,   6.62459915e-07,   8.58897597e-19,\n",
        "         3.40611322e-06,   5.08189732e-04,   1.41667098e-04,\n",
        "         1.95012791e-04,   1.99666692e-02,   1.19981302e-09,\n",
        "         1.13548534e-05,   5.97130552e-04,   6.20194663e-02,\n",
        "         2.66317203e-02,   6.39470715e-02,   1.41101151e-01,\n",
        "         4.30308074e-17,   1.60242121e-01,   7.91547064e-03,\n",
        "         9.84700293e-02,   3.56934169e-04,   4.57456965e-04,\n",
        "         5.14776043e-15,   8.31529292e-03]), array([  2.85076778e-03,   2.06201138e-08,   8.13104167e-05,\n",
        "         2.22292298e-03,   7.05676301e-06,   1.90643787e-01,\n",
        "         1.25445764e-03,   3.31127022e-05,   8.30608083e-02,\n",
        "         2.84674381e-02,   6.48536121e-02,   1.08564850e-09,\n",
        "         1.40816100e-06,   2.13098659e-04,   5.51480550e-02,\n",
        "         7.47441090e-02,   6.45839700e-09,   9.04028938e-03,\n",
        "         6.48067587e-09,   1.95687534e-03,   2.95105044e-04,\n",
        "         4.37106903e-03,   4.27098650e-12,   4.59921746e-05,\n",
        "         1.04340901e-05,   2.25690440e-03,   3.62829248e-04,\n",
        "         1.68982662e-08,   2.43566475e-02,   2.30676164e-01,\n",
        "         1.03997381e-02,   7.10235207e-03,   2.50079267e-02,\n",
        "         2.56115534e-02,   4.15333229e-10,   4.39398104e-03,\n",
        "         6.49625783e-08,   3.48816767e-03,   1.55200559e-13,\n",
        "         3.99180705e-10,   3.67724337e-20,   2.71099175e-02,\n",
        "         6.20717533e-05,   7.84797256e-05,   1.09482400e-06,\n",
        "         1.07908695e-01,   4.62419766e-26,   3.85821547e-03,\n",
        "         8.02342178e-03,   1.26744259e-08])]\n",
        "theta: [array([ 0.62690981,  0.37309019,  0.        ,  0.        ,  0.        ]), array([ 0.39104151,  0.2283575 ,  0.08366497,  0.29693603,  0.        ]), array([ 1.,  0.,  0.,  0.,  0.]), array([ 0.42090479,  0.41194117,  0.16715405,  0.        ,  0.        ]), array([ 0.53111657,  0.        ,  0.46888343,  0.        ,  0.        ]), array([ 1.,  0.,  0.,  0.,  0.]), array([ 0.55061081,  0.        ,  0.44938919,  0.        ,  0.        ]), array([ 0.52288426,  0.47711574,  0.        ,  0.        ,  0.        ]), array([ 1.,  0.,  0.,  0.,  0.]), array([ 1.,  0.,  0.,  0.,  0.])]\n"
       ]
      }
     ],
     "prompt_number": 2
    },
    {
     "cell_type": "code",
     "collapsed": false,
     "input": [
      "import IBPCompoundDirichlet\n",
      "\n",
      "model = IBPCompoundDirichlet.IBPCompoundDirichlet()\n",
      "model.fit_data(data, 100, 5, 1, 0.1)"
     ],
     "language": "python",
     "metadata": {},
     "outputs": [
      {
       "output_type": "stream",
       "stream": "stdout",
       "text": [
        "Iteration 0 Complete\n",
        "50\n",
        "Perplexity: 157.567013843\n",
        "Iteration"
       ]
      },
      {
       "output_type": "stream",
       "stream": "stdout",
       "text": [
        " 1 Complete\n",
        "50\n",
        "Perplexity: 112.825244008\n",
        "Iteration"
       ]
      },
      {
       "output_type": "stream",
       "stream": "stdout",
       "text": [
        " 2 Complete\n",
        "50\n",
        "Perplexity: 96.372558675\n",
        "Iteration"
       ]
      },
      {
       "output_type": "stream",
       "stream": "stdout",
       "text": [
        " 3 Complete\n",
        "50\n",
        "Perplexity: 92.7077411121\n",
        "Iteration"
       ]
      },
      {
       "output_type": "stream",
       "stream": "stdout",
       "text": [
        " 4 Complete\n",
        "50\n",
        "Perplexity: 74.2111412219\n",
        "Iteration"
       ]
      },
      {
       "output_type": "stream",
       "stream": "stdout",
       "text": [
        " 5 Complete\n",
        "50\n",
        "Perplexity: 86.9029815641\n",
        "Iteration"
       ]
      },
      {
       "output_type": "stream",
       "stream": "stdout",
       "text": [
        " 6 Complete\n",
        "50\n",
        "Perplexity: 110.708086266\n",
        "Iteration"
       ]
      },
      {
       "output_type": "stream",
       "stream": "stdout",
       "text": [
        " 7 Complete\n",
        "50\n",
        "Perplexity: 86.5808563644\n",
        "Iteration"
       ]
      },
      {
       "output_type": "stream",
       "stream": "stdout",
       "text": [
        " 8 Complete\n",
        "50\n",
        "Perplexity: 81.4204225528\n",
        "Iteration"
       ]
      },
      {
       "output_type": "stream",
       "stream": "stdout",
       "text": [
        " 9 Complete\n",
        "50\n",
        "Perplexity: 70.2268679014\n",
        "Iteration"
       ]
      },
      {
       "output_type": "stream",
       "stream": "stdout",
       "text": [
        " 10 Complete\n",
        "50\n",
        "Perplexity: 61.2835052769\n",
        "Iteration"
       ]
      },
      {
       "output_type": "stream",
       "stream": "stdout",
       "text": [
        " 11 Complete\n",
        "50\n",
        "Perplexity: 56.3121903926\n",
        "Iteration"
       ]
      },
      {
       "output_type": "stream",
       "stream": "stdout",
       "text": [
        " 12 Complete\n",
        "50\n",
        "Perplexity: 67.3754587609\n",
        "Iteration"
       ]
      },
      {
       "output_type": "stream",
       "stream": "stdout",
       "text": [
        " 13 Complete\n",
        "50\n",
        "Perplexity: 63.7958651027\n",
        "Iteration"
       ]
      },
      {
       "output_type": "stream",
       "stream": "stdout",
       "text": [
        " 14 Complete\n",
        "50\n",
        "Perplexity: 50.6262974717\n",
        "Iteration"
       ]
      },
      {
       "output_type": "stream",
       "stream": "stdout",
       "text": [
        " 15 Complete\n",
        "50\n",
        "Perplexity: 50.6821166615\n",
        "Iteration"
       ]
      },
      {
       "output_type": "stream",
       "stream": "stdout",
       "text": [
        " 16 Complete\n",
        "50\n",
        "Perplexity: 59.6117792406\n",
        "Iteration"
       ]
      },
      {
       "output_type": "stream",
       "stream": "stdout",
       "text": [
        " 17 Complete\n",
        "50\n",
        "Perplexity: 51.138658729\n",
        "Iteration"
       ]
      },
      {
       "output_type": "stream",
       "stream": "stdout",
       "text": [
        " 18 Complete\n",
        "50\n",
        "Perplexity: 59.0987710182\n",
        "Iteration"
       ]
      },
      {
       "output_type": "stream",
       "stream": "stdout",
       "text": [
        " 19 Complete\n",
        "50\n",
        "Perplexity: 55.4880155615\n",
        "Iteration"
       ]
      },
      {
       "output_type": "stream",
       "stream": "stdout",
       "text": [
        " 20 Complete\n",
        "50\n",
        "Perplexity: 64.1211662624\n",
        "Iteration"
       ]
      },
      {
       "output_type": "stream",
       "stream": "stdout",
       "text": [
        " 21 Complete\n",
        "50\n",
        "Perplexity: 69.9426120741\n",
        "Iteration"
       ]
      },
      {
       "output_type": "stream",
       "stream": "stdout",
       "text": [
        " 22 Complete\n",
        "50\n",
        "Perplexity: 55.5186604122\n",
        "Iteration"
       ]
      },
      {
       "output_type": "stream",
       "stream": "stdout",
       "text": [
        " 23 Complete\n",
        "50\n",
        "Perplexity: 58.8302121946\n",
        "Iteration"
       ]
      },
      {
       "output_type": "stream",
       "stream": "stdout",
       "text": [
        " 24 Complete\n",
        "50\n",
        "Perplexity: 57.5398425356\n",
        "Iteration"
       ]
      },
      {
       "output_type": "stream",
       "stream": "stdout",
       "text": [
        " 25 Complete\n",
        "50\n",
        "Perplexity: 45.8101663214\n",
        "Iteration"
       ]
      },
      {
       "output_type": "stream",
       "stream": "stdout",
       "text": [
        " 26 Complete\n",
        "50\n",
        "Perplexity: 38.060239938\n",
        "Iteration"
       ]
      },
      {
       "output_type": "stream",
       "stream": "stdout",
       "text": [
        " 27 Complete\n",
        "50\n",
        "Perplexity: 31.4780078156\n",
        "Iteration"
       ]
      },
      {
       "output_type": "stream",
       "stream": "stdout",
       "text": [
        " 28 Complete\n",
        "50\n",
        "Perplexity: 35.3755213235\n",
        "Iteration"
       ]
      },
      {
       "output_type": "stream",
       "stream": "stdout",
       "text": [
        " 29 Complete\n",
        "50\n",
        "Perplexity: 41.0140611131\n",
        "Iteration"
       ]
      },
      {
       "output_type": "stream",
       "stream": "stdout",
       "text": [
        " 30 Complete\n",
        "50\n",
        "Perplexity: 29.8937123487\n",
        "Iteration"
       ]
      },
      {
       "output_type": "stream",
       "stream": "stdout",
       "text": [
        " 31 Complete\n",
        "50\n",
        "Perplexity: 28.2423183605\n",
        "Iteration"
       ]
      },
      {
       "output_type": "stream",
       "stream": "stdout",
       "text": [
        " 32 Complete\n",
        "50\n",
        "Perplexity: 39.2373511046\n",
        "Iteration"
       ]
      },
      {
       "output_type": "stream",
       "stream": "stdout",
       "text": [
        " 33 Complete\n",
        "50\n",
        "Perplexity: 37.4186453935\n",
        "Iteration"
       ]
      },
      {
       "output_type": "stream",
       "stream": "stdout",
       "text": [
        " 34 Complete\n",
        "50\n",
        "Perplexity: 32.8144764998\n",
        "Iteration"
       ]
      },
      {
       "output_type": "stream",
       "stream": "stdout",
       "text": [
        " 35 Complete\n",
        "50\n",
        "Perplexity: 33.0234594201\n",
        "Iteration"
       ]
      },
      {
       "output_type": "stream",
       "stream": "stdout",
       "text": [
        " 36 Complete\n",
        "50\n",
        "Perplexity: 26.2990024167\n",
        "Iteration"
       ]
      },
      {
       "output_type": "stream",
       "stream": "stdout",
       "text": [
        " 37 Complete\n",
        "50\n",
        "Perplexity: 22.6821740069\n",
        "Iteration"
       ]
      },
      {
       "output_type": "stream",
       "stream": "stdout",
       "text": [
        " 38 Complete\n",
        "50\n",
        "Perplexity: 34.3789667397\n",
        "Iteration"
       ]
      },
      {
       "output_type": "stream",
       "stream": "stdout",
       "text": [
        " 39 Complete\n",
        "50\n",
        "Perplexity: 28.574028335\n",
        "Iteration"
       ]
      },
      {
       "output_type": "stream",
       "stream": "stdout",
       "text": [
        " 40 Complete\n",
        "50\n",
        "Perplexity: 23.5441412778\n",
        "Iteration"
       ]
      },
      {
       "output_type": "stream",
       "stream": "stdout",
       "text": [
        " 41 Complete\n",
        "50\n",
        "Perplexity: 30.0504670183\n",
        "Iteration"
       ]
      },
      {
       "output_type": "stream",
       "stream": "stdout",
       "text": [
        " 42 Complete\n",
        "50\n",
        "Perplexity: 24.4468093072\n",
        "Iteration"
       ]
      },
      {
       "output_type": "stream",
       "stream": "stdout",
       "text": [
        " 43 Complete\n",
        "50\n",
        "Perplexity: 26.2712931604\n",
        "Iteration"
       ]
      },
      {
       "output_type": "stream",
       "stream": "stdout",
       "text": [
        " 44 Complete\n",
        "50\n",
        "Perplexity: 24.9304034933\n",
        "Iteration"
       ]
      },
      {
       "output_type": "stream",
       "stream": "stdout",
       "text": [
        " 45 Complete\n",
        "50\n",
        "Perplexity: 25.8976131932\n",
        "Iteration"
       ]
      },
      {
       "output_type": "stream",
       "stream": "stdout",
       "text": [
        " 46 Complete\n",
        "50\n",
        "Perplexity: 27.8942399067\n",
        "Iteration"
       ]
      },
      {
       "output_type": "stream",
       "stream": "stdout",
       "text": [
        " 47 Complete\n",
        "50\n",
        "Perplexity: 29.0680508285\n",
        "Iteration"
       ]
      },
      {
       "output_type": "stream",
       "stream": "stdout",
       "text": [
        " 48 Complete\n",
        "50\n",
        "Perplexity: 28.7235087056\n",
        "Iteration"
       ]
      },
      {
       "output_type": "stream",
       "stream": "stdout",
       "text": [
        " 49 Complete\n",
        "50\n",
        "Perplexity: 28.1406938866\n",
        "Iteration"
       ]
      },
      {
       "output_type": "stream",
       "stream": "stdout",
       "text": [
        " 50 Complete\n",
        "50\n",
        "Perplexity: 21.3008319174\n",
        "Iteration"
       ]
      },
      {
       "output_type": "stream",
       "stream": "stdout",
       "text": [
        " 51 Complete\n",
        "50\n",
        "Perplexity: 22.2784405419\n",
        "Iteration"
       ]
      },
      {
       "output_type": "stream",
       "stream": "stdout",
       "text": [
        " 52 Complete\n",
        "50\n",
        "Perplexity: 29.7799551684\n",
        "Iteration"
       ]
      },
      {
       "output_type": "stream",
       "stream": "stdout",
       "text": [
        " 53 Complete\n",
        "50\n",
        "Perplexity: 30.7683617138\n",
        "Iteration"
       ]
      },
      {
       "output_type": "stream",
       "stream": "stdout",
       "text": [
        " 54 Complete\n",
        "50\n",
        "Perplexity: 32.6760166876\n",
        "Iteration"
       ]
      },
      {
       "output_type": "stream",
       "stream": "stdout",
       "text": [
        " 55 Complete\n",
        "50\n",
        "Perplexity: 42.7443918089\n",
        "Iteration"
       ]
      },
      {
       "output_type": "stream",
       "stream": "stdout",
       "text": [
        " 56 Complete\n",
        "50\n",
        "Perplexity: 29.3039514471\n",
        "Iteration"
       ]
      },
      {
       "output_type": "stream",
       "stream": "stdout",
       "text": [
        " 57 Complete\n",
        "50\n",
        "Perplexity: 31.68753036\n",
        "Iteration"
       ]
      },
      {
       "output_type": "stream",
       "stream": "stdout",
       "text": [
        " 58 Complete\n",
        "50\n",
        "Perplexity: 28.6954483884\n",
        "Iteration"
       ]
      },
      {
       "output_type": "stream",
       "stream": "stdout",
       "text": [
        " 59 Complete\n",
        "50\n",
        "Perplexity: 26.3026358218\n",
        "Iteration"
       ]
      },
      {
       "output_type": "stream",
       "stream": "stdout",
       "text": [
        " 60 Complete\n",
        "50\n",
        "Perplexity: 31.4423403361\n",
        "Iteration"
       ]
      },
      {
       "output_type": "stream",
       "stream": "stdout",
       "text": [
        " 61 Complete\n",
        "50\n",
        "Perplexity: 26.8018203538\n",
        "Iteration"
       ]
      },
      {
       "output_type": "stream",
       "stream": "stdout",
       "text": [
        " 62 Complete\n",
        "50\n",
        "Perplexity: 23.1937480085\n",
        "Iteration"
       ]
      },
      {
       "output_type": "stream",
       "stream": "stdout",
       "text": [
        " 63 Complete\n",
        "50\n",
        "Perplexity: 31.8960524598\n",
        "Iteration"
       ]
      },
      {
       "output_type": "stream",
       "stream": "stdout",
       "text": [
        " 64 Complete\n",
        "50\n",
        "Perplexity: 32.5840623059\n",
        "Iteration"
       ]
      },
      {
       "output_type": "stream",
       "stream": "stdout",
       "text": [
        " 65 Complete\n",
        "50\n",
        "Perplexity: 35.4300333056\n",
        "Iteration"
       ]
      },
      {
       "output_type": "stream",
       "stream": "stdout",
       "text": [
        " 66 Complete\n",
        "50\n",
        "Perplexity: 31.2109325963\n",
        "Iteration"
       ]
      },
      {
       "output_type": "stream",
       "stream": "stdout",
       "text": [
        " 67 Complete\n",
        "50\n",
        "Perplexity: 37.3169548671\n",
        "Iteration"
       ]
      },
      {
       "output_type": "stream",
       "stream": "stdout",
       "text": [
        " 68 Complete\n",
        "50\n",
        "Perplexity: 33.3190940454\n",
        "Iteration"
       ]
      },
      {
       "output_type": "stream",
       "stream": "stdout",
       "text": [
        " 69 Complete\n",
        "50\n",
        "Perplexity: 26.7729663623\n",
        "Iteration"
       ]
      },
      {
       "output_type": "stream",
       "stream": "stdout",
       "text": [
        " 70 Complete\n",
        "50\n",
        "Perplexity: 28.5002641963\n",
        "Iteration"
       ]
      },
      {
       "output_type": "stream",
       "stream": "stdout",
       "text": [
        " 71 Complete\n",
        "50\n",
        "Perplexity: 27.5623588288\n",
        "Iteration"
       ]
      },
      {
       "output_type": "stream",
       "stream": "stdout",
       "text": [
        " 72 Complete\n",
        "50\n",
        "Perplexity: 22.5772465501\n",
        "Iteration"
       ]
      },
      {
       "output_type": "stream",
       "stream": "stdout",
       "text": [
        " 73 Complete\n",
        "50\n",
        "Perplexity: 22.3027479747\n",
        "Iteration"
       ]
      },
      {
       "output_type": "stream",
       "stream": "stdout",
       "text": [
        " 74 Complete\n",
        "50\n",
        "Perplexity: 21.4297187248\n",
        "Iteration"
       ]
      },
      {
       "output_type": "stream",
       "stream": "stdout",
       "text": [
        " 75 Complete\n",
        "50\n",
        "Perplexity: 25.1004677149\n",
        "Iteration"
       ]
      },
      {
       "output_type": "stream",
       "stream": "stdout",
       "text": [
        " 76 Complete\n",
        "50\n",
        "Perplexity: 23.3180936693\n",
        "Iteration"
       ]
      },
      {
       "output_type": "stream",
       "stream": "stdout",
       "text": [
        " 77 Complete\n",
        "50\n",
        "Perplexity: 22.8498030748\n",
        "Iteration"
       ]
      },
      {
       "output_type": "stream",
       "stream": "stdout",
       "text": [
        " 78 Complete\n",
        "50\n",
        "Perplexity: 23.5759486233\n",
        "Iteration"
       ]
      },
      {
       "output_type": "stream",
       "stream": "stdout",
       "text": [
        " 79 Complete\n",
        "50\n",
        "Perplexity: 21.9158926612\n",
        "Iteration"
       ]
      },
      {
       "output_type": "stream",
       "stream": "stdout",
       "text": [
        " 80 Complete\n",
        "50\n",
        "Perplexity: 34.8019302736\n",
        "Iteration"
       ]
      },
      {
       "output_type": "stream",
       "stream": "stdout",
       "text": [
        " 81 Complete\n",
        "50\n",
        "Perplexity: 43.6716262905\n",
        "Iteration"
       ]
      },
      {
       "output_type": "stream",
       "stream": "stdout",
       "text": [
        " 82 Complete\n",
        "50\n",
        "Perplexity: 37.9100052099\n",
        "Iteration"
       ]
      },
      {
       "output_type": "stream",
       "stream": "stdout",
       "text": [
        " 83 Complete\n",
        "50\n",
        "Perplexity: 52.8185632762\n",
        "Iteration"
       ]
      },
      {
       "output_type": "stream",
       "stream": "stdout",
       "text": [
        " 84 Complete\n",
        "50\n",
        "Perplexity: 58.5242305382\n",
        "Iteration"
       ]
      },
      {
       "output_type": "stream",
       "stream": "stdout",
       "text": [
        " 85 Complete\n",
        "50\n",
        "Perplexity: 52.4118226068\n",
        "Iteration"
       ]
      },
      {
       "output_type": "stream",
       "stream": "stdout",
       "text": [
        " 86 Complete\n",
        "50\n",
        "Perplexity: 47.6980726733\n",
        "Iteration"
       ]
      },
      {
       "output_type": "stream",
       "stream": "stdout",
       "text": [
        " 87 Complete\n",
        "50\n",
        "Perplexity: 32.6197635773\n",
        "Iteration"
       ]
      },
      {
       "output_type": "stream",
       "stream": "stdout",
       "text": [
        " 88 Complete\n",
        "50\n",
        "Perplexity: 36.0163078722\n",
        "Iteration"
       ]
      },
      {
       "output_type": "stream",
       "stream": "stdout",
       "text": [
        " 89 Complete\n",
        "50\n",
        "Perplexity: 38.7236207181\n",
        "Iteration"
       ]
      },
      {
       "output_type": "stream",
       "stream": "stdout",
       "text": [
        " 90 Complete\n",
        "50\n",
        "Perplexity: 42.2323416141\n",
        "Iteration"
       ]
      },
      {
       "output_type": "stream",
       "stream": "stdout",
       "text": [
        " 91 Complete\n",
        "50\n",
        "Perplexity: 42.6573290357\n",
        "Iteration"
       ]
      },
      {
       "output_type": "stream",
       "stream": "stdout",
       "text": [
        " 92 Complete\n",
        "50\n",
        "Perplexity: 37.1108076454\n",
        "Iteration"
       ]
      },
      {
       "output_type": "stream",
       "stream": "stdout",
       "text": [
        " 93 Complete\n",
        "50\n",
        "Perplexity: 43.6544197526\n",
        "Iteration"
       ]
      },
      {
       "output_type": "stream",
       "stream": "stdout",
       "text": [
        " 94 Complete\n",
        "50\n",
        "Perplexity: 38.2081696678\n",
        "Iteration"
       ]
      },
      {
       "output_type": "stream",
       "stream": "stdout",
       "text": [
        " 95 Complete\n",
        "50\n",
        "Perplexity: 37.6852949927\n",
        "Iteration"
       ]
      },
      {
       "output_type": "stream",
       "stream": "stdout",
       "text": [
        " 96 Complete\n",
        "50\n",
        "Perplexity: 33.58818235\n",
        "Iteration"
       ]
      },
      {
       "output_type": "stream",
       "stream": "stdout",
       "text": [
        " 97 Complete\n",
        "50\n",
        "Perplexity: 40.6976256244\n",
        "Iteration"
       ]
      },
      {
       "output_type": "stream",
       "stream": "stdout",
       "text": [
        " 98 Complete\n",
        "50\n",
        "Perplexity: 47.4652371895\n",
        "Iteration"
       ]
      },
      {
       "output_type": "stream",
       "stream": "stdout",
       "text": [
        " 99 Complete\n",
        "50\n",
        "Perplexity: 40.0775081992\n"
       ]
      }
     ],
     "prompt_number": 4
    },
    {
     "cell_type": "code",
     "collapsed": false,
     "input": [
      "model.get_topics()\n",
      "model.get_topic_assignments()\n",
      "print(model.pi)\n",
      "print(model.phi)"
     ],
     "language": "python",
     "metadata": {},
     "outputs": [
      {
       "output_type": "stream",
       "stream": "stdout",
       "text": [
        "[[ 0.          0.          0.          0.          0.          0.          0.\n",
        "   0.          0.          0.          0.          0.          0.          0.\n",
        "   0.          0.          0.          0.          0.          0.          0.\n",
        "   0.          0.          0.          0.          0.          0.          0.\n",
        "   0.          0.          0.          0.          0.          0.          0.\n",
        "   0.          0.          0.          0.          0.          0.          0.\n",
        "   0.          0.          1.          0.          0.          0.          0.\n",
        "   0.        ]\n",
        " [ 0.00318134  0.          0.          0.          0.          0.00742312\n",
        "   0.00636267  0.          0.00530223  0.00424178  0.02226935  0.12089077\n",
        "   0.00318134  0.04347826  0.00212089  0.          0.20360551  0.01908802\n",
        "   0.06892895  0.00106045  0.          0.00212089  0.0349947   0.00424178\n",
        "   0.00954401  0.06574761  0.          0.01696713  0.01272534  0.00848356\n",
        "   0.          0.          0.          0.00636267  0.00424178  0.\n",
        "   0.04772004  0.00212089  0.00848356  0.03393425  0.08695652  0.01378579\n",
        "   0.09862142  0.00318134  0.01908802  0.00530223  0.          0.          0.\n",
        "   0.00424178]\n",
        " [ 0.          0.          0.          1.          0.          0.          0.\n",
        "   0.          0.          0.          0.          0.          0.          0.\n",
        "   0.          0.          0.          0.          0.          0.          0.\n",
        "   0.          0.          0.          0.          0.          0.          0.\n",
        "   0.          0.          0.          0.          0.          0.          0.\n",
        "   0.          0.          0.          0.          0.          0.          0.\n",
        "   0.          0.          0.          0.          0.          0.          0.\n",
        "   0.        ]\n",
        " [ 0.          0.          0.          0.          0.          0.          0.\n",
        "   0.          0.          0.          0.          0.          0.          0.\n",
        "   0.          0.          0.          0.          0.          0.          0.\n",
        "   0.          1.          0.          0.          0.          0.          0.\n",
        "   0.          0.          0.          0.          0.          0.          0.\n",
        "   0.          0.          0.          0.          0.          0.          0.\n",
        "   0.          0.          0.          0.          0.          0.          0.\n",
        "   0.        ]\n",
        " [ 0.          0.          0.          0.          0.          0.          0.\n",
        "   0.          0.          0.          0.          0.          1.          0.\n",
        "   0.          0.          0.          0.          0.          0.          0.\n",
        "   0.          0.          0.          0.          0.          0.          0.\n",
        "   0.          0.          0.          0.          0.          0.          0.\n",
        "   0.          0.          0.          0.          0.          0.          0.\n",
        "   0.          0.          0.          0.          0.          0.          0.\n",
        "   0.        ]\n",
        " [ 0.          0.          0.          0.          0.          0.          0.\n",
        "   0.          0.          0.          0.          0.          0.          0.\n",
        "   1.          0.          0.          0.          0.          0.          0.\n",
        "   0.          0.          0.          0.          0.          0.          0.\n",
        "   0.          0.          0.          0.          0.          0.          0.\n",
        "   0.          0.          0.          0.          0.          0.          0.\n",
        "   0.          0.          0.          0.          0.          0.          0.\n",
        "   0.        ]\n",
        " [ 0.          0.          0.          0.          0.          0.          0.\n",
        "   0.          0.          0.          0.          0.          0.          0.\n",
        "   0.          0.          0.          0.          0.          0.          0.\n",
        "   0.          0.          0.          0.          0.          0.          0.\n",
        "   0.          0.          0.          0.          0.          0.          0.\n",
        "   0.          0.          0.          0.          0.          0.          0.\n",
        "   0.          0.          0.          0.          0.          1.          0.\n",
        "   0.        ]\n",
        " [ 0.          0.          0.          0.          0.          0.          0.\n",
        "   0.          0.          0.          0.          0.          0.          0.\n",
        "   0.          0.          0.          0.          0.          0.          0.\n",
        "   0.          0.          0.          0.          0.          0.          0.\n",
        "   0.          0.          0.          0.          0.          0.          0.\n",
        "   0.          0.          0.          0.          0.          0.          0.\n",
        "   0.          0.          0.          0.          0.          0.          1.\n",
        "   0.        ]]\n",
        "[[ 0.          1.          0.          0.          0.          0.          0.\n",
        "   0.        ]\n",
        " [ 0.          1.          0.          0.          0.          0.          0.\n",
        "   0.        ]\n",
        " [ 0.          1.          0.          0.          0.          0.          0.\n",
        "   0.        ]\n",
        " [ 0.          0.94117647  0.          0.05882353  0.          0.          0.\n",
        "   0.        ]\n",
        " [ 0.          1.          0.          0.          0.          0.          0.\n",
        "   0.        ]\n",
        " [ 0.          1.          0.          0.          0.          0.          0.\n",
        "   0.        ]\n",
        " [ 0.          1.          0.          0.          0.          0.          0.\n",
        "   0.        ]\n",
        " [ 0.          1.          0.          0.          0.          0.          0.\n",
        "   0.        ]\n",
        " [ 0.          1.          0.          0.          0.          0.          0.\n",
        "   0.        ]\n",
        " [ 0.          1.          0.          0.          0.          0.          0.\n",
        "   0.        ]\n",
        " [ 0.          1.          0.          0.          0.          0.          0.\n",
        "   0.        ]\n",
        " [ 0.          1.          0.          0.          0.          0.          0.\n",
        "   0.        ]\n",
        " [ 0.          1.          0.          0.          0.          0.          0.\n",
        "   0.        ]\n",
        " [ 0.          1.          0.          0.          0.          0.          0.\n",
        "   0.        ]\n",
        " [ 0.          1.          0.          0.          0.          0.          0.\n",
        "   0.        ]\n",
        " [ 0.          1.          0.          0.          0.          0.          0.\n",
        "   0.        ]\n",
        " [ 0.          1.          0.          0.          0.          0.          0.\n",
        "   0.        ]\n",
        " [ 0.          1.          0.          0.          0.          0.          0.\n",
        "   0.        ]\n",
        " [ 0.          1.          0.          0.          0.          0.          0.\n",
        "   0.        ]\n",
        " [ 0.          1.          0.          0.          0.          0.          0.\n",
        "   0.        ]\n",
        " [ 0.          1.          0.          0.          0.          0.          0.\n",
        "   0.        ]\n",
        " [ 0.          0.91666667  0.          0.          0.          0.08333333\n",
        "   0.          0.        ]\n",
        " [ 0.          1.          0.          0.          0.          0.          0.\n",
        "   0.        ]\n",
        " [ 0.          1.          0.          0.          0.          0.          0.\n",
        "   0.        ]\n",
        " [ 0.          1.          0.          0.          0.          0.          0.\n",
        "   0.        ]\n",
        " [ 0.          0.94736842  0.          0.          0.05263158  0.          0.\n",
        "   0.        ]\n",
        " [ 0.          1.          0.          0.          0.          0.          0.\n",
        "   0.        ]\n",
        " [ 0.          1.          0.          0.          0.          0.          0.\n",
        "   0.        ]\n",
        " [ 0.          1.          0.          0.          0.          0.          0.\n",
        "   0.        ]\n",
        " [ 0.          1.          0.          0.          0.          0.          0.\n",
        "   0.        ]\n",
        " [ 0.          1.          0.          0.          0.          0.          0.\n",
        "   0.        ]\n",
        " [ 0.          1.          0.          0.          0.          0.          0.\n",
        "   0.        ]\n",
        " [ 0.          1.          0.          0.          0.          0.          0.\n",
        "   0.        ]\n",
        " [ 0.          1.          0.          0.          0.          0.          0.\n",
        "   0.        ]\n",
        " [ 0.          1.          0.          0.          0.          0.          0.\n",
        "   0.        ]\n",
        " [ 0.          1.          0.          0.          0.          0.          0.\n",
        "   0.        ]\n",
        " [ 0.          1.          0.          0.          0.          0.          0.\n",
        "   0.        ]\n",
        " [ 0.          1.          0.          0.          0.          0.          0.\n",
        "   0.        ]\n",
        " [ 0.          1.          0.          0.          0.          0.          0.\n",
        "   0.        ]\n",
        " [ 0.          1.          0.          0.          0.          0.          0.\n",
        "   0.        ]\n",
        " [ 0.          1.          0.          0.          0.          0.          0.\n",
        "   0.        ]\n",
        " [ 0.          1.          0.          0.          0.          0.          0.\n",
        "   0.        ]\n",
        " [ 0.          1.          0.          0.          0.          0.          0.\n",
        "   0.        ]\n",
        " [ 0.          1.          0.          0.          0.          0.          0.\n",
        "   0.        ]\n",
        " [ 0.          1.          0.          0.          0.          0.          0.\n",
        "   0.        ]\n",
        " [ 0.          1.          0.          0.          0.          0.          0.\n",
        "   0.        ]\n",
        " [ 0.          1.          0.          0.          0.          0.          0.\n",
        "   0.        ]\n",
        " [ 0.          1.          0.          0.          0.          0.          0.\n",
        "   0.        ]\n",
        " [ 0.          1.          0.          0.          0.          0.          0.\n",
        "   0.        ]\n",
        " [ 0.          1.          0.          0.          0.          0.          0.\n",
        "   0.        ]\n",
        " [ 0.          1.          0.          0.          0.          0.          0.\n",
        "   0.        ]\n",
        " [ 0.          1.          0.          0.          0.          0.          0.\n",
        "   0.        ]\n",
        " [ 0.          1.          0.          0.          0.          0.          0.\n",
        "   0.        ]\n",
        " [ 0.          1.          0.          0.          0.          0.          0.\n",
        "   0.        ]\n",
        " [ 0.          1.          0.          0.          0.          0.          0.\n",
        "   0.        ]\n",
        " [ 0.          1.          0.          0.          0.          0.          0.\n",
        "   0.        ]\n",
        " [ 0.          1.          0.          0.          0.          0.          0.\n",
        "   0.        ]\n",
        " [ 0.          1.          0.          0.          0.          0.          0.\n",
        "   0.        ]\n",
        " [ 0.          1.          0.          0.          0.          0.          0.\n",
        "   0.        ]\n",
        " [ 0.          1.          0.          0.          0.          0.          0.\n",
        "   0.        ]\n",
        " [ 0.          1.          0.          0.          0.          0.          0.\n",
        "   0.        ]\n",
        " [ 0.          1.          0.          0.          0.          0.          0.\n",
        "   0.        ]\n",
        " [ 0.          1.          0.          0.          0.          0.          0.\n",
        "   0.        ]\n",
        " [ 0.          1.          0.          0.          0.          0.          0.\n",
        "   0.        ]\n",
        " [ 0.          1.          0.          0.          0.          0.          0.\n",
        "   0.        ]\n",
        " [ 0.          1.          0.          0.          0.          0.          0.\n",
        "   0.        ]\n",
        " [ 0.          1.          0.          0.          0.          0.          0.\n",
        "   0.        ]\n",
        " [ 0.          1.          0.          0.          0.          0.          0.\n",
        "   0.        ]\n",
        " [ 0.05        0.95        0.          0.          0.          0.          0.\n",
        "   0.        ]\n",
        " [ 0.          1.          0.          0.          0.          0.          0.\n",
        "   0.        ]\n",
        " [ 0.          0.90909091  0.09090909  0.          0.          0.          0.\n",
        "   0.        ]\n",
        " [ 0.          1.          0.          0.          0.          0.          0.\n",
        "   0.        ]\n",
        " [ 0.          1.          0.          0.          0.          0.          0.\n",
        "   0.        ]\n",
        " [ 0.          1.          0.          0.          0.          0.          0.\n",
        "   0.        ]\n",
        " [ 0.          1.          0.          0.          0.          0.          0.\n",
        "   0.        ]\n",
        " [ 0.          1.          0.          0.          0.          0.          0.\n",
        "   0.        ]\n",
        " [ 0.          1.          0.          0.          0.          0.          0.\n",
        "   0.        ]\n",
        " [ 0.          1.          0.          0.          0.          0.          0.\n",
        "   0.        ]\n",
        " [ 0.          1.          0.          0.          0.          0.          0.\n",
        "   0.        ]\n",
        " [ 0.          1.          0.          0.          0.          0.          0.\n",
        "   0.        ]\n",
        " [ 0.          1.          0.          0.          0.          0.          0.\n",
        "   0.        ]\n",
        " [ 0.          1.          0.          0.          0.          0.          0.\n",
        "   0.        ]\n",
        " [ 0.          1.          0.          0.          0.          0.          0.\n",
        "   0.        ]\n",
        " [ 0.          1.          0.          0.          0.          0.          0.\n",
        "   0.        ]\n",
        " [ 0.          1.          0.          0.          0.          0.          0.\n",
        "   0.        ]\n",
        " [ 0.          1.          0.          0.          0.          0.          0.\n",
        "   0.        ]\n",
        " [ 0.          1.          0.          0.          0.          0.          0.\n",
        "   0.        ]\n",
        " [ 0.          1.          0.          0.          0.          0.          0.\n",
        "   0.        ]\n",
        " [ 0.          1.          0.          0.          0.          0.          0.\n",
        "   0.        ]\n",
        " [ 0.          0.9         0.          0.          0.          0.          0.\n",
        "   0.1       ]\n",
        " [ 0.          1.          0.          0.          0.          0.          0.\n",
        "   0.        ]\n",
        " [ 0.          1.          0.          0.          0.          0.          0.\n",
        "   0.        ]\n",
        " [ 0.          1.          0.          0.          0.          0.          0.\n",
        "   0.        ]\n",
        " [ 0.          1.          0.          0.          0.          0.          0.\n",
        "   0.        ]\n",
        " [ 0.          0.90909091  0.          0.          0.          0.\n",
        "   0.09090909  0.        ]\n",
        " [ 0.          1.          0.          0.          0.          0.          0.\n",
        "   0.        ]\n",
        " [ 0.          1.          0.          0.          0.          0.          0.\n",
        "   0.        ]\n",
        " [ 0.          1.          0.          0.          0.          0.          0.\n",
        "   0.        ]\n",
        " [ 0.          1.          0.          0.          0.          0.          0.\n",
        "   0.        ]\n",
        " [ 0.          1.          0.          0.          0.          0.          0.\n",
        "   0.        ]]"
       ]
      },
      {
       "output_type": "stream",
       "stream": "stdout",
       "text": [
        "\n",
        "[  3.94601431e-01   9.39637398e-01   6.19447372e-03   9.69233470e-03\n",
        "   1.89876840e-03   8.23148271e-04   3.84833628e-04   3.39644027e-04]\n",
        "[ 0.3961342   9.59915928  3.72477695  3.59214499  5.38185678  4.62392474\n",
        "  4.99254289  5.06189832]\n"
       ]
      }
     ],
     "prompt_number": 9
    }
   ],
   "metadata": {}
  }
 ]
}