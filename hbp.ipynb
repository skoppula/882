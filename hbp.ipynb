{
 "cells": [
  {
   "cell_type": "code",
   "execution_count": 39,
   "metadata": {
    "collapsed": false
   },
   "outputs": [],
   "source": [
    "from preprocess_dataset import load_dataset\n",
    "import scipy\n",
    "import scipy.stats as stats\n",
    "import numpy as np\n",
    "\n",
    "from __future__ import absolute_import\n",
    "from __future__ import division\n",
    "from __future__ import print_function\n",
    "\n",
    "import edward as ed\n",
    "import numpy as np\n",
    "import tensorflow as tf\n",
    "from sklearn.decomposition import PCA\n",
    "from sklearn.manifold import TSNE\n",
    "from time import time\n",
    "import matplotlib.pyplot as plt\n",
    "\n",
    "from edward.models import Dirichlet, Categorical, InverseGamma, ParamMixture, Normal\n",
    "\n",
    "plt.style.use('ggplot')"
   ]
  },
  {
   "cell_type": "code",
   "execution_count": null,
   "metadata": {
    "collapsed": false
   },
   "outputs": [],
   "source": []
  },
  {
   "cell_type": "code",
   "execution_count": 2,
   "metadata": {
    "collapsed": false
   },
   "outputs": [
    {
     "name": "stdout",
     "output_type": "stream",
     "text": [
      "Number of cells: 4645\n",
      "Number of genes: 23686\n",
      "After cutting out stop genes:\n",
      "\tNumber of cells: 4645\n",
      "\tNumber of genes: 23675\n",
      "After cutting out ribosomal protein genes:\n",
      "\tNumber of cells: 4645\n",
      "\tNumber of genes: 23552\n",
      "After cutting out all-zero rows [cells]:\n",
      "\tNumber of cells: 4645\n",
      "\tNumber of genes: 23552\n",
      "After cutting out all-zero columns [genes]:\n",
      "\tNumber of cells: 4645\n",
      "\tNumber of genes: 22712\n",
      "After cutting out the bottom 0.750000 fraction of genes with low STD (<8.053897):\n",
      "\tNumber of cells: 4645\n",
      "\tNumber of genes: 5678\n",
      "Data shape: (4645, 5678)\n"
     ]
    }
   ],
   "source": [
    "data, genes, cells = load_dataset(filter_std=0.75)\n",
    "print(\"Data shape:\", data.shape)"
   ]
  },
  {
   "cell_type": "code",
   "execution_count": 3,
   "metadata": {
    "collapsed": false
   },
   "outputs": [],
   "source": [
    "pca = PCA(n_components=2)\n",
    "pca.fit(data)\n",
    "dim_reduced_data = pca.transform(data)"
   ]
  },
  {
   "cell_type": "code",
   "execution_count": 4,
   "metadata": {
    "collapsed": false
   },
   "outputs": [
    {
     "data": {
      "text/plain": [
       "(4645, 2)"
      ]
     },
     "execution_count": 4,
     "metadata": {},
     "output_type": "execute_result"
    }
   ],
   "source": [
    "dim_reduced_data.shape"
   ]
  },
  {
   "cell_type": "code",
   "execution_count": 5,
   "metadata": {
    "collapsed": false
   },
   "outputs": [],
   "source": [
    "pca = PCA(n_components=1)\n",
    "pca.fit(data)\n",
    "mixture_reduced_data = pca.transform(data)"
   ]
  },
  {
   "cell_type": "code",
   "execution_count": 7,
   "metadata": {
    "collapsed": false
   },
   "outputs": [
    {
     "data": {
      "text/plain": [
       "(4645, 1)"
      ]
     },
     "execution_count": 7,
     "metadata": {},
     "output_type": "execute_result"
    }
   ],
   "source": [
    "mixture_reduced_data.shape"
   ]
  },
  {
   "cell_type": "code",
   "execution_count": 9,
   "metadata": {
    "collapsed": false
   },
   "outputs": [],
   "source": [
    "def compute_stats(data):\n",
    "    tmp = np.count_nonzero(data, axis=1)\n",
    "    print(\"Average/Min/Max non-zero count for each cell: \", np.mean(tmp), np.min(tmp), np.max(tmp))\n",
    "    tmp = np.count_nonzero(data, axis=0)\n",
    "    print(\"Average/Min/Max non-zero count for each gene: \", np.mean(tmp), np.min(tmp), np.max(tmp))\n",
    "    tmp = np.max(data, axis=0)\n",
    "    print(\"Average/Min/Max max-expression value for each gene: \", np.mean(tmp), np.min(tmp), np.max(tmp))\n",
    "    print(\"Number of genes with max-expression of 1:\", np.where(tmp==1)[0].shape[0])\n",
    "    # mean non-zero expression value of each gene\n",
    "    tmp = np.true_divide(data.sum(0),(data!=0).sum(0))\n",
    "    print(\"Average/Min/Max mean non-zero expression value for each gene: \", np.mean(tmp), np.min(tmp), np.max(tmp))\n",
    "    \n",
    "def normalize_along_columns(data):\n",
    "    return (data - data.mean(axis=0)) / data.std(axis=0)"
   ]
  },
  {
   "cell_type": "code",
   "execution_count": 10,
   "metadata": {
    "collapsed": false
   },
   "outputs": [
    {
     "name": "stdout",
     "output_type": "stream",
     "text": [
      "Average/Min/Max non-zero count for each cell:  2.0 2 2\n",
      "Average/Min/Max non-zero count for each gene:  4645.0 4645 4645\n",
      "Average/Min/Max max-expression value for each gene:  32850.5346718 5441.56316267 60259.5061809\n",
      "Number of genes with max-expression of 1: 0\n",
      "Average/Min/Max mean non-zero expression value for each gene:  -2.07212312134e-13 -2.62067129151e-13 -1.52357495117e-13\n",
      "Average/Min/Max non-zero count for each cell:  2.0 2 2\n",
      "Average/Min/Max non-zero count for each gene:  4645.0 4645 4645\n",
      "Average/Min/Max max-expression value for each gene:  21.1832616109 4.80988070845 37.5566425133\n",
      "Number of genes with max-expression of 1: 0\n",
      "Average/Min/Max mean non-zero expression value for each gene:  4.2774807736e-16 8.32278869671e-17 7.72268267754e-16\n"
     ]
    }
   ],
   "source": [
    "compute_stats(dim_reduced_data)\n",
    "dim_reduced_data_norm = normalize_along_columns(dim_reduced_data)\n",
    "compute_stats(dim_reduced_data_norm)"
   ]
  },
  {
   "cell_type": "code",
   "execution_count": null,
   "metadata": {
    "collapsed": false
   },
   "outputs": [],
   "source": []
  },
  {
   "cell_type": "code",
   "execution_count": 11,
   "metadata": {
    "collapsed": false
   },
   "outputs": [
    {
     "name": "stdout",
     "output_type": "stream",
     "text": [
      "Average/Min/Max non-zero count for each cell:  1.0 1 1\n",
      "Average/Min/Max non-zero count for each gene:  4645.0 4645 4645\n",
      "Average/Min/Max max-expression value for each gene:  60259.5061796 60259.5061796 60259.5061796\n",
      "Number of genes with max-expression of 1: 0\n",
      "Average/Min/Max mean non-zero expression value for each gene:  -6.26562550199e-15 -6.26562550199e-15 -6.26562550199e-15\n",
      "Average/Min/Max non-zero count for each cell:  1.0 1 1\n",
      "Average/Min/Max non-zero count for each gene:  4645.0 4645 4645\n",
      "Average/Min/Max max-expression value for each gene:  37.5566425125 37.5566425125 37.5566425125\n",
      "Number of genes with max-expression of 1: 0\n",
      "Average/Min/Max mean non-zero expression value for each gene:  1.22375498086e-17 1.22375498086e-17 1.22375498086e-17\n"
     ]
    }
   ],
   "source": [
    "compute_stats(mixture_reduced_data)\n",
    "mixture_reduced_data_norm = normalize_along_columns(mixture_reduced_data)\n",
    "compute_stats(mixture_reduced_data_norm)"
   ]
  },
  {
   "cell_type": "code",
   "execution_count": 69,
   "metadata": {
    "collapsed": false
   },
   "outputs": [],
   "source": [
    "mixture_reduced_data_norm = mixture_reduced_data_norm.squeeze()\n",
    "mixture_reduced_data_norm_trn,mixture_reduced_data_norm_test = mixture_reduced_data_norm[0:2323],mixture_reduced_data_norm[2322:]"
   ]
  },
  {
   "cell_type": "code",
   "execution_count": 70,
   "metadata": {
    "collapsed": false
   },
   "outputs": [
    {
     "data": {
      "text/plain": [
       "((4645,), (2323,), (2323,))"
      ]
     },
     "execution_count": 70,
     "metadata": {},
     "output_type": "execute_result"
    }
   ],
   "source": [
    "mixture_reduced_data_norm.shape, mixture_reduced_data_norm_trn.shape, mixture_reduced_data_norm_test.shape"
   ]
  },
  {
   "cell_type": "code",
   "execution_count": 71,
   "metadata": {
    "collapsed": false
   },
   "outputs": [],
   "source": [
    "n_data = len(mixture_reduced_data_norm_trn)\n",
    "n_feats = 1\n",
    "cluster_assignments = [None]*5"
   ]
  },
  {
   "cell_type": "code",
   "execution_count": null,
   "metadata": {
    "collapsed": false
   },
   "outputs": [
    {
     "name": "stdout",
     "output_type": "stream",
     "text": [
      "Number of clusters: 10\n",
      "sampling...\n",
      "\t on 0 of 500\n"
     ]
    }
   ],
   "source": [
    "for clust_i, n_clusters in enumerate([10,25,50,75,100]):\n",
    "    print(\"Number of clusters:\", n_clusters)\n",
    "    pi_alpha = np.ones(n_clusters, dtype=np.float32)\n",
    "    mu_sigma = np.std(np.random.rand(n_clusters))\n",
    "    sigmasq_alpha = 1.0\n",
    "    sigmasq_beta = 2.0\n",
    "\n",
    "    pi = Dirichlet(pi_alpha)\n",
    "    mu = Normal(0.0, mu_sigma.astype('float32'), sample_shape=n_clusters)\n",
    "    sigmasq = InverseGamma(sigmasq_alpha, sigmasq_beta, sample_shape=n_clusters)\n",
    "    x = ParamMixture(pi, {'loc': mu, 'scale': tf.sqrt(sigmasq)}, Normal, sample_shape=n_data)\n",
    "    z = x.cat\n",
    "\n",
    "    # Conditionals\n",
    "    mu_cond = ed.complete_conditional(mu)\n",
    "    sigmasq_cond = ed.complete_conditional(sigmasq)\n",
    "    pi_cond = ed.complete_conditional(pi)\n",
    "    z_cond = ed.complete_conditional(z)\n",
    "\n",
    "    sess = ed.get_session()\n",
    "\n",
    "    # Initialize randomly\n",
    "    pi_est, mu_est, sigmasq_est, z_est = sess.run([pi, mu, sigmasq, z])\n",
    "    # print('Initial parameters:', 'pi:', pi_est, 'mu:', mu_est, 'sigmasq:', sigmasq_est)\n",
    "    \n",
    "    # Gibbs sampler\n",
    "    print(\"sampling...\")\n",
    "    cond_dict = {pi: pi_est, mu: mu_est, sigmasq: sigmasq_est, z: z_est, x: mixture_reduced_data_norm_trn}\n",
    "    t0 = time()\n",
    "    T = 500\n",
    "    for t in range(T):\n",
    "        if t % 100 == 0: print(\"\\t on\",t, \"of\", T)\n",
    "        z_est = sess.run(z_cond, cond_dict)\n",
    "        cond_dict[z] = z_est\n",
    "        pi_est, mu_est = sess.run([pi_cond, mu_cond], cond_dict)\n",
    "        cond_dict[pi] = pi_est\n",
    "        cond_dict[mu] = mu_est\n",
    "        sigmasq_est = sess.run(sigmasq_cond, cond_dict)\n",
    "        cond_dict[sigmasq] = sigmasq_est\n",
    "    print('took %.3f seconds to run %d iterations' % (time() - t0, T))\n",
    "    \n",
    "    cluster_assignments[clust_i] = z_est[:]\n",
    "    \n",
    "    ll = ed.evaluate('log_likelihood', data={x: mixture_reduced_data_norm_test.astype('float32')})\n",
    "    print(\"\\tlog likelihood:\", ll)"
   ]
  },
  {
   "cell_type": "code",
   "execution_count": 77,
   "metadata": {
    "collapsed": false
   },
   "outputs": [
    {
     "name": "stdout",
     "output_type": "stream",
     "text": [
      "0 3\n",
      "1 9\n",
      "2 16\n",
      "3 18\n",
      "4 20\n"
     ]
    }
   ],
   "source": [
    "# [10,25,50,75,100]\n",
    "for i in range(5):\n",
    "    print(i,len(set(cluster_assignments_final[i])))"
   ]
  },
  {
   "cell_type": "code",
   "execution_count": 48,
   "metadata": {
    "collapsed": false
   },
   "outputs": [],
   "source": []
  },
  {
   "cell_type": "code",
   "execution_count": 49,
   "metadata": {
    "collapsed": true
   },
   "outputs": [],
   "source": []
  },
  {
   "cell_type": "code",
   "execution_count": 50,
   "metadata": {
    "collapsed": true
   },
   "outputs": [],
   "source": []
  },
  {
   "cell_type": "code",
   "execution_count": null,
   "metadata": {
    "collapsed": false
   },
   "outputs": [],
   "source": []
  },
  {
   "cell_type": "code",
   "execution_count": null,
   "metadata": {
    "collapsed": false
   },
   "outputs": [],
   "source": []
  },
  {
   "cell_type": "code",
   "execution_count": null,
   "metadata": {
    "collapsed": false
   },
   "outputs": [],
   "source": []
  },
  {
   "cell_type": "code",
   "execution_count": 30,
   "metadata": {
    "collapsed": true
   },
   "outputs": [],
   "source": []
  },
  {
   "cell_type": "code",
   "execution_count": null,
   "metadata": {
    "collapsed": false
   },
   "outputs": [],
   "source": []
  }
 ],
 "metadata": {
  "anaconda-cloud": {},
  "kernelspec": {
   "display_name": "Python [conda env:tensorflow]",
   "language": "python",
   "name": "conda-env-tensorflow-py"
  },
  "language_info": {
   "codemirror_mode": {
    "name": "ipython",
    "version": 3
   },
   "file_extension": ".py",
   "mimetype": "text/x-python",
   "name": "python",
   "nbconvert_exporter": "python",
   "pygments_lexer": "ipython3",
   "version": "3.5.2"
  }
 },
 "nbformat": 4,
 "nbformat_minor": 1
}
