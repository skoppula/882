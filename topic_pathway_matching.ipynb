{
 "cells": [
  {
   "cell_type": "code",
   "execution_count": 8,
   "metadata": {
    "collapsed": true
   },
   "outputs": [],
   "source": [
    "import numpy as np\n",
    "import pickle\n",
    "genes = set(np.load('dataset/preprocessed/human_melanoma_data_column_lbls.npy'))"
   ]
  },
  {
   "cell_type": "code",
   "execution_count": 20,
   "metadata": {
    "collapsed": false
   },
   "outputs": [
    {
     "name": "stdout",
     "output_type": "stream",
     "text": [
      "Large pathway! DIAZ_CHRONIC_MEYLOGENOUS_LEUKEMIA_UP\n",
      "Large pathway! KINSEY_TARGETS_OF_EWSR1_FLII_FUSION_UP\n",
      "Large pathway! DODD_NASOPHARYNGEAL_CARCINOMA_UP\n",
      "Large pathway! DODD_NASOPHARYNGEAL_CARCINOMA_DN\n",
      "Large pathway! GRAESSMANN_APOPTOSIS_BY_DOXORUBICIN_UP\n",
      "Large pathway! GRAESSMANN_APOPTOSIS_BY_DOXORUBICIN_DN\n",
      "Large pathway! PEREZ_TP53_TARGETS\n",
      "Large pathway! PUJANA_BRCA1_PCC_NETWORK\n",
      "Large pathway! PUJANA_ATM_PCC_NETWORK\n",
      "Large pathway! NUYTTEN_EZH2_TARGETS_UP\n",
      "Large pathway! NUYTTEN_EZH2_TARGETS_DN\n",
      "Large pathway! BENPORATH_SUZ12_TARGETS\n",
      "Large pathway! BENPORATH_EED_TARGETS\n",
      "Large pathway! BENPORATH_ES_WITH_H3K27ME3\n",
      "Large pathway! BLALOCK_ALZHEIMERS_DISEASE_DN\n",
      "Large pathway! BLALOCK_ALZHEIMERS_DISEASE_UP\n",
      "Large pathway! KRIGE_RESPONSE_TO_TOSEDOSTAT_24HR_DN\n",
      "Large pathway! MARSON_BOUND_BY_FOXP3_STIMULATED\n",
      "Large pathway! MARSON_BOUND_BY_FOXP3_UNSTIMULATED\n",
      "Large pathway! YOSHIMURA_MAPK8_TARGETS_UP\n",
      "Large pathway! CHEN_METABOLIC_SYNDROM_NETWORK\n",
      "Large pathway! MEISSNER_BRAIN_HCP_WITH_H3K4ME3_AND_H3K27ME3\n",
      "Large pathway! DANG_BOUND_BY_MYC\n",
      "Large pathway! PILON_KLF1_TARGETS_DN\n",
      "Large pathway! BRUINS_UVC_RESPONSE_LATE\n",
      "Large pathway! GOBERT_OLIGODENDROCYTE_DIFFERENTIATION_DN\n",
      "Large pathway! ZWANG_TRANSIENTLY_UP_BY_2ND_EGF_PULSE_ONLY\n",
      "Large pathway! ZWANG_TRANSIENTLY_UP_BY_1ST_EGF_PULSE_ONLY\n",
      "Large pathway! NABA_MATRISOME\n",
      "Number of pathways: 4731\n"
     ]
    }
   ],
   "source": [
    "pathways= {}\n",
    "\n",
    "with open('c2.all.v6.0.symbols.gmt') as f:\n",
    "    for i, line in enumerate(f):\n",
    "        name = line.split('\\t')[0]\n",
    "        pathway_genes = line.split('\\t')[2:]\n",
    "        if len(pathway_genes) > 1000: print(\"Large pathway!\", name)\n",
    "        filtered_genes = set(list(filter(lambda x: x in genes, pathway_genes)))\n",
    "        if len(filtered_genes) > 1:\n",
    "            pathways[name] = filtered_genes\n",
    "    pickle.dump(pathways, open(\"filtered_pathways.pickle\",\"wb\"))\n",
    "\n",
    "print(\"Number of pathways:\", len(pathways))"
   ]
  },
  {
   "cell_type": "code",
   "execution_count": null,
   "metadata": {
    "collapsed": true
   },
   "outputs": [],
   "source": [
    "ovb_topics=[]\n",
    "gibbs_topics=[]\n",
    "\n",
    "for n_clusters in [5,10,25,50]:\n",
    "    ovb_topics.append([None]*n_clusters)\n",
    "    gibbs_topics.append([None]*n_clusters)"
   ]
  },
  {
   "cell_type": "code",
   "execution_count": 17,
   "metadata": {
    "collapsed": false
   },
   "outputs": [
    {
     "data": {
      "text/plain": [
       "[['', '', '', '', '', '', '', '', '', '', '', '', '', '', ''],\n",
       " ['', '', '', '', '', '', '', '', '', '', '', '', '', '', ''],\n",
       " ['', '', '', '', '', '', '', '', '', '', '', '', '', '', ''],\n",
       " ['', '', '', '', '', '', '', '', '', '', '', '', '', '', ''],\n",
       " ['', '', '', '', '', '', '', '', '', '', '', '', '', '', '']]"
      ]
     },
     "execution_count": 17,
     "metadata": {},
     "output_type": "execute_result"
    }
   ],
   "source": [
    "for i, n_clusters in enumerate([5,10,25,50]):\n",
    "    with open('ovb_%dclusters.log' % n_clusters) as f:\n",
    "        for j, line in enumerate(f):\n",
    "            topics_genes = set(line.split(':')[1].split(', '))\n",
    "            ovb_topics[i][j] = topic_genes"
   ]
  }
 ],
 "metadata": {
  "anaconda-cloud": {},
  "kernelspec": {
   "display_name": "Python [conda root]",
   "language": "python",
   "name": "conda-root-py"
  },
  "language_info": {
   "codemirror_mode": {
    "name": "ipython",
    "version": 3
   },
   "file_extension": ".py",
   "mimetype": "text/x-python",
   "name": "python",
   "nbconvert_exporter": "python",
   "pygments_lexer": "ipython3",
   "version": "3.5.2"
  }
 },
 "nbformat": 4,
 "nbformat_minor": 1
}
