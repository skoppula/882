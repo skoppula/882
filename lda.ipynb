{
 "cells": [
  {
   "cell_type": "code",
   "execution_count": 1,
   "metadata": {
    "collapsed": false
   },
   "outputs": [],
   "source": [
    "from preprocess_dataset import load_dataset\n",
    "from preprocess_dataset import cut_out_zero_rows\n",
    "from preprocess_dataset import cut_out_zero_cols\n",
    "import pandas as pd\n",
    "import scipy\n",
    "import scipy.stats as stats\n",
    "import numpy as np\n",
    "import lda\n",
    "import pickle\n",
    "from sklearn.model_selection import train_test_split"
   ]
  },
  {
   "cell_type": "code",
   "execution_count": 2,
   "metadata": {
    "collapsed": false
   },
   "outputs": [
    {
     "name": "stdout",
     "output_type": "stream",
     "text": [
      "Data shape: (4645, 22712)\n"
     ]
    }
   ],
   "source": [
    "data, genes, cells = load_dataset()\n",
    "print(\"Data shape:\", data.shape)"
   ]
  },
  {
   "cell_type": "code",
   "execution_count": 3,
   "metadata": {
    "collapsed": false
   },
   "outputs": [],
   "source": [
    "def compute_stats(data):\n",
    "    tmp = np.count_nonzero(data, axis=1)\n",
    "    print(\"Average/Min/Max non-zero count for each cell: \", np.mean(tmp), np.min(tmp), np.max(tmp))\n",
    "    tmp = np.count_nonzero(data, axis=0)\n",
    "    print(\"Average/Min/Max non-zero count for each gene: \", np.mean(tmp), np.min(tmp), np.max(tmp))\n",
    "    if np.max(tmp) == data.shape[0]: print(\"there exists a gene active in all cells!\")\n",
    "    tmp = np.max(data, axis=0)\n",
    "    print(\"Average/Min/Max max-expression value for each gene: \", np.mean(tmp), np.min(tmp), np.max(tmp))\n",
    "    print(\"Number of genes with max-expression of 1:\", np.where(tmp==1)[0].shape[0])\n",
    "    # mean non-zero expression value of each gene\n",
    "    tmp = np.true_divide(data.sum(0),(data!=0).sum(0))\n",
    "    print(\"Average/Min/Max mean non-zero expression value for each gene: \", np.mean(tmp), np.min(tmp), np.max(tmp))\n",
    "    \n",
    "def normalize_along_columns(data):\n",
    "    return (data - data.mean(axis=0)) / data.std(axis=0)"
   ]
  },
  {
   "cell_type": "code",
   "execution_count": 4,
   "metadata": {
    "collapsed": false
   },
   "outputs": [
    {
     "name": "stdout",
     "output_type": "stream",
     "text": [
      "Average/Min/Max non-zero count for each cell:  4349.26437029 1310 13154\n",
      "Average/Min/Max non-zero count for each gene:  889.500396266 1 4642\n",
      "Average/Min/Max max-expression value for each gene:  162.237847834 1 62129\n",
      "Number of genes with max-expression of 1: 35\n",
      "Average/Min/Max mean non-zero expression value for each gene:  12.8953778105 1.0 2317.61788618\n"
     ]
    }
   ],
   "source": [
    "compute_stats(data)\n",
    "# data = normalize_along_columns(data)\n",
    "# compute_stats(data)"
   ]
  },
  {
   "cell_type": "code",
   "execution_count": 5,
   "metadata": {
    "collapsed": false
   },
   "outputs": [
    {
     "name": "stdout",
     "output_type": "stream",
     "text": [
      "(4645, 22712)\n",
      "(4180, 2271) (465, 2271)\n"
     ]
    }
   ],
   "source": [
    "print(data.shape)\n",
    "data_trn,data_te,_,_ = train_test_split(data, np.ones(data.shape[0]), test_size=0.10, random_state=42)\n",
    "column_dropout = 0.1\n",
    "rand_idx = np.random.randint(data_trn.shape[1], size=int(data_trn.shape[1]*column_dropout))\n",
    "trimmed_data_trn = data_trn[:,rand_idx]\n",
    "trimmed_data_te = data_te[:,rand_idx]\n",
    "print(trimmed_data_trn.shape, trimmed_data_te.shape)"
   ]
  },
  {
   "cell_type": "code",
   "execution_count": 6,
   "metadata": {
    "collapsed": false
   },
   "outputs": [],
   "source": [
    "trimmed_data_te = cut_out_zero_rows(pd.DataFrame(trimmed_data_te)).as_matrix()\n",
    "keep_cols = ~(pd.DataFrame(trimmed_data_te) == 0).all(axis=0)\n",
    "trimmed_data_te = cut_out_zero_cols(pd.DataFrame(trimmed_data_te)).as_matrix()"
   ]
  },
  {
   "cell_type": "code",
   "execution_count": 8,
   "metadata": {
    "collapsed": false
   },
   "outputs": [],
   "source": []
  },
  {
   "cell_type": "code",
   "execution_count": 9,
   "metadata": {
    "collapsed": false
   },
   "outputs": [
    {
     "data": {
      "text/plain": [
       "array(['IL1RAP', 'ALKBH4', 'LOC390660', ..., 'NPB', 'ERCC6L', 'DIDO1'], dtype=object)"
      ]
     },
     "execution_count": 9,
     "metadata": {},
     "output_type": "execute_result"
    }
   ],
   "source": [
    "n_clusters = 10\n",
    "n_data = len(cells)\n",
    "n_feats = len(genes)"
   ]
  },
  {
   "cell_type": "code",
   "execution_count": 11,
   "metadata": {
    "collapsed": false
   },
   "outputs": [
    {
     "name": "stderr",
     "output_type": "stream",
     "text": [
      "INFO:lda:n_documents: 465\n",
      "INFO:lda:vocab_size: 2112\n",
      "INFO:lda:n_words: 2995588\n",
      "INFO:lda:n_topics: 10\n",
      "INFO:lda:n_iter: 1500\n",
      "INFO:lda:<0> log likelihood: -25886689\n",
      "INFO:lda:<10> log likelihood: -22410101\n",
      "INFO:lda:<20> log likelihood: -20800175\n",
      "INFO:lda:<30> log likelihood: -20468089\n",
      "INFO:lda:<40> log likelihood: -20346738\n",
      "INFO:lda:<50> log likelihood: -20281003\n",
      "INFO:lda:<60> log likelihood: -20232114\n",
      "INFO:lda:<70> log likelihood: -20203262\n",
      "INFO:lda:<80> log likelihood: -20183186\n",
      "INFO:lda:<90> log likelihood: -20157842\n",
      "INFO:lda:<100> log likelihood: -20143347\n",
      "INFO:lda:<110> log likelihood: -20133000\n",
      "INFO:lda:<120> log likelihood: -20125792\n",
      "INFO:lda:<130> log likelihood: -20120753\n",
      "INFO:lda:<140> log likelihood: -20114893\n",
      "INFO:lda:<150> log likelihood: -20112212\n",
      "INFO:lda:<160> log likelihood: -20107824\n",
      "INFO:lda:<170> log likelihood: -20102149\n",
      "INFO:lda:<180> log likelihood: -20099670\n",
      "INFO:lda:<190> log likelihood: -20094489\n",
      "INFO:lda:<200> log likelihood: -20098684\n",
      "INFO:lda:<210> log likelihood: -20093118\n",
      "INFO:lda:<220> log likelihood: -20090762\n",
      "INFO:lda:<230> log likelihood: -20085526\n",
      "INFO:lda:<240> log likelihood: -20085277\n",
      "INFO:lda:<250> log likelihood: -20085735\n",
      "INFO:lda:<260> log likelihood: -20081547\n",
      "INFO:lda:<270> log likelihood: -20078855\n",
      "INFO:lda:<280> log likelihood: -20077358\n",
      "INFO:lda:<290> log likelihood: -20078573\n",
      "INFO:lda:<300> log likelihood: -20077247\n",
      "INFO:lda:<310> log likelihood: -20079300\n",
      "INFO:lda:<320> log likelihood: -20079089\n",
      "INFO:lda:<330> log likelihood: -20074355\n",
      "INFO:lda:<340> log likelihood: -20071927\n",
      "INFO:lda:<350> log likelihood: -20068377\n",
      "INFO:lda:<360> log likelihood: -20071226\n",
      "INFO:lda:<370> log likelihood: -20069492\n",
      "INFO:lda:<380> log likelihood: -20065832\n",
      "INFO:lda:<390> log likelihood: -20061416\n",
      "INFO:lda:<400> log likelihood: -20058563\n",
      "INFO:lda:<410> log likelihood: -20064898\n",
      "INFO:lda:<420> log likelihood: -20057251\n",
      "INFO:lda:<430> log likelihood: -20059544\n",
      "INFO:lda:<440> log likelihood: -20065490\n",
      "INFO:lda:<450> log likelihood: -20058690\n",
      "INFO:lda:<460> log likelihood: -20058489\n",
      "INFO:lda:<470> log likelihood: -20063290\n",
      "INFO:lda:<480> log likelihood: -20058796\n",
      "INFO:lda:<490> log likelihood: -20056421\n",
      "INFO:lda:<500> log likelihood: -20055382\n",
      "INFO:lda:<510> log likelihood: -20052356\n",
      "INFO:lda:<520> log likelihood: -20049336\n",
      "INFO:lda:<530> log likelihood: -20049774\n",
      "INFO:lda:<540> log likelihood: -20052492\n",
      "INFO:lda:<550> log likelihood: -20053034\n",
      "INFO:lda:<560> log likelihood: -20053621\n",
      "INFO:lda:<570> log likelihood: -20047883\n",
      "INFO:lda:<580> log likelihood: -20044157\n",
      "INFO:lda:<590> log likelihood: -20045950\n",
      "INFO:lda:<600> log likelihood: -20045039\n",
      "INFO:lda:<610> log likelihood: -20041924\n",
      "INFO:lda:<620> log likelihood: -20044095\n",
      "INFO:lda:<630> log likelihood: -20047714\n",
      "INFO:lda:<640> log likelihood: -20045576\n",
      "INFO:lda:<650> log likelihood: -20042350\n",
      "INFO:lda:<660> log likelihood: -20044881\n",
      "INFO:lda:<670> log likelihood: -20042746\n",
      "INFO:lda:<680> log likelihood: -20051240\n",
      "INFO:lda:<690> log likelihood: -20044769\n",
      "INFO:lda:<700> log likelihood: -20041404\n",
      "INFO:lda:<710> log likelihood: -20039739\n",
      "INFO:lda:<720> log likelihood: -20041184\n",
      "INFO:lda:<730> log likelihood: -20038618\n",
      "INFO:lda:<740> log likelihood: -20039541\n",
      "INFO:lda:<750> log likelihood: -20043602\n",
      "INFO:lda:<760> log likelihood: -20043610\n",
      "INFO:lda:<770> log likelihood: -20044533\n",
      "INFO:lda:<780> log likelihood: -20044546\n",
      "INFO:lda:<790> log likelihood: -20042252\n",
      "INFO:lda:<800> log likelihood: -20042821\n",
      "INFO:lda:<810> log likelihood: -20042322\n",
      "INFO:lda:<820> log likelihood: -20040764\n",
      "INFO:lda:<830> log likelihood: -20043170\n",
      "INFO:lda:<840> log likelihood: -20039121\n",
      "INFO:lda:<850> log likelihood: -20036648\n",
      "INFO:lda:<860> log likelihood: -20035824\n",
      "INFO:lda:<870> log likelihood: -20037246\n",
      "INFO:lda:<880> log likelihood: -20038222\n",
      "INFO:lda:<890> log likelihood: -20037972\n",
      "INFO:lda:<900> log likelihood: -20040751\n",
      "INFO:lda:<910> log likelihood: -20039778\n",
      "INFO:lda:<920> log likelihood: -20036794\n",
      "INFO:lda:<930> log likelihood: -20037523\n",
      "INFO:lda:<940> log likelihood: -20036648\n",
      "INFO:lda:<950> log likelihood: -20034805\n",
      "INFO:lda:<960> log likelihood: -20033478\n",
      "INFO:lda:<970> log likelihood: -20035992\n",
      "INFO:lda:<980> log likelihood: -20033005\n",
      "INFO:lda:<990> log likelihood: -20037374\n",
      "INFO:lda:<1000> log likelihood: -20034653\n",
      "INFO:lda:<1010> log likelihood: -20035762\n",
      "INFO:lda:<1020> log likelihood: -20037077\n",
      "INFO:lda:<1030> log likelihood: -20033977\n",
      "INFO:lda:<1040> log likelihood: -20029851\n",
      "INFO:lda:<1050> log likelihood: -20028352\n",
      "INFO:lda:<1060> log likelihood: -20030257\n",
      "INFO:lda:<1070> log likelihood: -20030493\n",
      "INFO:lda:<1080> log likelihood: -20033385\n",
      "INFO:lda:<1090> log likelihood: -20029912\n",
      "INFO:lda:<1100> log likelihood: -20034985\n",
      "INFO:lda:<1110> log likelihood: -20033465\n",
      "INFO:lda:<1120> log likelihood: -20032299\n",
      "INFO:lda:<1130> log likelihood: -20029965\n",
      "INFO:lda:<1140> log likelihood: -20028700\n",
      "INFO:lda:<1150> log likelihood: -20030481\n",
      "INFO:lda:<1160> log likelihood: -20030839\n",
      "INFO:lda:<1170> log likelihood: -20026108\n",
      "INFO:lda:<1180> log likelihood: -20025451\n",
      "INFO:lda:<1190> log likelihood: -20027495\n",
      "INFO:lda:<1200> log likelihood: -20029464\n",
      "INFO:lda:<1210> log likelihood: -20029493\n",
      "INFO:lda:<1220> log likelihood: -20030120\n",
      "INFO:lda:<1230> log likelihood: -20030675\n",
      "INFO:lda:<1240> log likelihood: -20027047\n",
      "INFO:lda:<1250> log likelihood: -20030724\n",
      "INFO:lda:<1260> log likelihood: -20030144\n",
      "INFO:lda:<1270> log likelihood: -20032935\n",
      "INFO:lda:<1280> log likelihood: -20031746\n",
      "INFO:lda:<1290> log likelihood: -20031948\n",
      "INFO:lda:<1300> log likelihood: -20035587\n",
      "INFO:lda:<1310> log likelihood: -20034658\n",
      "INFO:lda:<1320> log likelihood: -20036230\n",
      "INFO:lda:<1330> log likelihood: -20035674\n",
      "INFO:lda:<1340> log likelihood: -20035802\n",
      "INFO:lda:<1350> log likelihood: -20033838\n",
      "INFO:lda:<1360> log likelihood: -20033574\n",
      "INFO:lda:<1370> log likelihood: -20032628\n",
      "INFO:lda:<1380> log likelihood: -20036252\n",
      "INFO:lda:<1390> log likelihood: -20035718\n",
      "INFO:lda:<1400> log likelihood: -20031576\n",
      "INFO:lda:<1410> log likelihood: -20033617\n",
      "INFO:lda:<1420> log likelihood: -20028641\n",
      "INFO:lda:<1430> log likelihood: -20030966\n",
      "INFO:lda:<1440> log likelihood: -20031840\n",
      "INFO:lda:<1450> log likelihood: -20033111\n",
      "INFO:lda:<1460> log likelihood: -20034156\n",
      "INFO:lda:<1470> log likelihood: -20033542\n",
      "INFO:lda:<1480> log likelihood: -20030516\n",
      "INFO:lda:<1490> log likelihood: -20032195\n",
      "INFO:lda:<1499> log likelihood: -20024419\n"
     ]
    },
    {
     "data": {
      "text/plain": [
       "<lda.lda.LDA at 0x7f350d89e0b8>"
      ]
     },
     "execution_count": 11,
     "metadata": {},
     "output_type": "execute_result"
    }
   ],
   "source": [
    "model = lda.LDA(n_topics=n_clusters, n_iter=1500, random_state=1)\n",
    "model.fit(trimmed_data_te)"
   ]
  },
  {
   "cell_type": "code",
   "execution_count": 12,
   "metadata": {
    "collapsed": false
   },
   "outputs": [
    {
     "data": {
      "text/plain": [
       "['small_subset_lda.pickle']"
      ]
     },
     "execution_count": 12,
     "metadata": {},
     "output_type": "execute_result"
    }
   ],
   "source": [
    "from sklearn.externals import joblib\n",
    "joblib.dump(da,'data_trn.pickle')\n",
    "joblib.dump(model, 'model.pickle') "
   ]
  },
  {
   "cell_type": "code",
   "execution_count": 15,
   "metadata": {
    "collapsed": false
   },
   "outputs": [
    {
     "name": "stdout",
     "output_type": "stream",
     "text": [
      "Topic 0: RPS27A CORO1A UBB TOB1 PABPC1 IL2RG RHOH RCSD1 EIF4B IFITM2 PPIA NDUFB9\n",
      "Topic 1: DUSP2 DUSP2 CORO1A RPS27A IFITM1 IL2RG SRGN TOB1 PPP1CA TSPO UBB UBL5\n",
      "Topic 2: PRF1 CORO1A UBB IL2RG GZMH SRGN IFITM1 IFITM2 HLA.F PPP1CA DENND2D IRF9\n",
      "Topic 3: RPS27A ARL6IP5 UGT8 UGT8 PGM5P2 GSG1 UBQLN2 MCFD2 UBQLN2 MCFD2 TNFAIP8L1 PRICKLE2.AS3\n",
      "Topic 4: RNASE1 IFITM2 SRGN NPC2 CCL14 S100A9 UBB TMEM176B SEPP1 IER3 PPIA CRIP2\n",
      "Topic 5: PSME1 PSME1 UBB PABPC1 PPIA STAT1 TPM3 IFIT3 EDF1 DNPH1 MORF4L1 UBL5\n",
      "Topic 6: RGS2 SRGN CD8B UBB STAT1 ATP5A1 IFITM1 LITAF RASSF5 DENND2D MOB1A MOB1A\n",
      "Topic 7: IFITM1 IFITM2 RPS27A SRGN CORO1A HLA.F STAT1 EDF1 IL2RG PABPC1 PPIA TRIM22\n",
      "Topic 8: GAS5 RPS27A UBB PABPC1 PPIA TSPO CLTA TRMT112 IMPDH2 ATP5A1 EIF3M PGLS\n",
      "Topic 9: LGALS3 UBB NPC2 PPIA ATP1A1 PKM DUSP6 SPCS1 ERGIC3 ATP6V0B RPS27A BST2\n"
     ]
    }
   ],
   "source": [
    "n_top_words = 12\n",
    "topic_word = model.topic_word_\n",
    "for i, topic_dist in enumerate(topic_word):\n",
    "    topic_words = np.array(genes[rand_idx][keep_cols])[np.argsort(topic_dist)][:-(n_top_words+1):-1]\n",
    "    print('Topic {}: {}'.format(i, ' '.join(topic_words)))"
   ]
  }
 ],
 "metadata": {
  "anaconda-cloud": {},
  "kernelspec": {
   "display_name": "Python [conda root]",
   "language": "python",
   "name": "conda-root-py"
  },
  "language_info": {
   "codemirror_mode": {
    "name": "ipython",
    "version": 3
   },
   "file_extension": ".py",
   "mimetype": "text/x-python",
   "name": "python",
   "nbconvert_exporter": "python",
   "pygments_lexer": "ipython3",
   "version": "3.5.2"
  }
 },
 "nbformat": 4,
 "nbformat_minor": 1
}
