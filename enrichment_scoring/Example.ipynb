{
 "cells": [
  {
   "cell_type": "code",
   "execution_count": null,
   "metadata": {
    "collapsed": true
   },
   "outputs": [],
   "source": [
    "# Example\n",
    "\n",
    "# ranked_genes_file_name is a .npy file of a list of numpy arrays containing ranked genes (highest to lowest frequency) for each topic\n",
    "# n_sig_pathways is the number of pathways returned per topic\n",
    "# enrichment_minimum_n and lowest_cutoff are parameters for mHG test -- see xlmhg package documentation for details\n",
    "# save_file_name is root of file names for results -- should not contain extension\n",
    "\n",
    "# returns \n",
    "# scores -- (# of topics) x (n_sig_pathways) numpy array. Each row contains smallest [n_sig_pathways] p-values from the mHG test for a single topic, from most significant to least significant\n",
    "# pathways -- length (# of topics) list of (n_sig_pathways,) numpy arrays, each array contains pathways corresponding to p-values from scores array\n",
    "# these are also saved to file\n",
    "\n",
    "from enrichment_mHGtest import enrichment_mHGtest\n",
    "\n",
    "scores, pathways = enrichment_mHGtest(vocab_file_name = 'vocab_file.npy', ranked_genes_file_name = 'ranked_lists_genes.npy',\n",
    "                                     save_file_name = 'save_file_name', n_sig_pathways = 6, enrichment_minimum_n = 5, lowest_cutoff = 100)"
   ]
  }
 ],
 "metadata": {
  "anaconda-cloud": {},
  "kernelspec": {
   "display_name": "Python [default]",
   "language": "python",
   "name": "python3"
  },
  "language_info": {
   "codemirror_mode": {
    "name": "ipython",
    "version": 3
   },
   "file_extension": ".py",
   "mimetype": "text/x-python",
   "name": "python",
   "nbconvert_exporter": "python",
   "pygments_lexer": "ipython3",
   "version": "3.5.2"
  }
 },
 "nbformat": 4,
 "nbformat_minor": 2
}
