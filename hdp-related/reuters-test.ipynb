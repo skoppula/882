{
 "cells": [
  {
   "cell_type": "code",
   "execution_count": 13,
   "metadata": {},
   "outputs": [
    {
     "name": "stdout",
     "output_type": "stream",
     "text": [
      "(395, 4258)\n"
     ]
    }
   ],
   "source": [
    "import numpy as np\n",
    "import lda.datasets\n",
    "\n",
    "X = lda.datasets.load_reuters()\n",
    "vocab = lda.datasets.load_reuters_vocab()\n",
    "titles = lda.datasets.load_reuters_titles()\n",
    "print(X.shape)\n",
    "X = X[0:50,0:200]"
   ]
  },
  {
   "cell_type": "raw",
   "metadata": {},
   "source": [
    "Data format must be:\n",
    "\n",
    "[M] [term_1]:[count] [term_2]:[count] ...  [term_N]:[count]\n",
    "\n",
    "where [M] is the number of unique terms in the document, and the\n",
    "[count] associated with each term is how many times that term appeared\n",
    "in the document. Note term is an integer index, not the actual term."
   ]
  },
  {
   "cell_type": "code",
   "execution_count": 14,
   "metadata": {},
   "outputs": [
    {
     "name": "stdout",
     "output_type": "stream",
     "text": [
      "[40, 25, 39, 49, 46, 45, 39, 45, 39, 48, 47, 51, 48, 49, 59, 56, 55, 42, 26, 48]\n"
     ]
    }
   ],
   "source": [
    "# first column of file formatted for hdp is unique terms per document\n",
    "unique_terms_per_doc = []\n",
    "for i in range(X.shape[0]):\n",
    "    unique_terms_per_doc.append(np.count_nonzero(X[i,:]))\n",
    "print(unique_terms_per_doc[0:20])\n",
    "\n"
   ]
  },
  {
   "cell_type": "code",
   "execution_count": 15,
   "metadata": {},
   "outputs": [
    {
     "name": "stdout",
     "output_type": "stream",
     "text": [
      "50\n",
      "200\n",
      "['0:1', '1:0', '2:1', '3:0', '4:0']\n"
     ]
    }
   ],
   "source": [
    "# create lists mapping terms to counts per document\n",
    "terms_to_counts_list = []\n",
    "\n",
    "for idx in range(X.shape[0]):\n",
    "    doc_terms_to_counts = [str(i)+':'+str(j) for i,j in enumerate(X[idx,:])]\n",
    "    terms_to_counts_list.append(doc_terms_to_counts)\n",
    "    \n",
    "print(len(terms_to_counts_list))\n",
    "print(len(terms_to_counts_list[0]))\n",
    "print(terms_to_counts_list[0][0:5])"
   ]
  },
  {
   "cell_type": "code",
   "execution_count": 16,
   "metadata": {
    "collapsed": true
   },
   "outputs": [],
   "source": [
    "import csv\n",
    "\n",
    "with open('data-reuters', 'w') as file:\n",
    "    writer = csv.writer(file, delimiter = ' ')\n",
    "    for i in range(len(terms_to_counts_list)):\n",
    "        writer.writerow([str(unique_terms_per_doc[i])] + terms_to_counts_list[i])"
   ]
  }
 ],
 "metadata": {
  "kernelspec": {
   "display_name": "Python 3",
   "language": "python",
   "name": "python3"
  },
  "language_info": {
   "codemirror_mode": {
    "name": "ipython",
    "version": 3
   },
   "file_extension": ".py",
   "mimetype": "text/x-python",
   "name": "python",
   "nbconvert_exporter": "python",
   "pygments_lexer": "ipython3",
   "version": "3.5.2"
  }
 },
 "nbformat": 4,
 "nbformat_minor": 2
}
