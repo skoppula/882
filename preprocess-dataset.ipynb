{
 "cells": [
  {
   "cell_type": "code",
   "execution_count": 1,
   "metadata": {
    "collapsed": true
   },
   "outputs": [],
   "source": [
    "import pandas as pd\n",
    "import os.path\n",
    "import sys\n",
    "import numpy as np"
   ]
  },
  {
   "cell_type": "code",
   "execution_count": 4,
   "metadata": {
    "collapsed": true
   },
   "outputs": [],
   "source": [
    "def cut_out_zero_rows(data):\n",
    "    return data.loc[~(data == 0).all(axis=1)]\n",
    "\n",
    "def cut_out_zero_cols(data):\n",
    "    return data.loc[:, ~(data == 0).all(axis=0)]\n",
    "\n",
    "def load_dataset(preprocessed_path='dataset/preprocessed/human_melanoma_data.npy',\n",
    "                 raw_path='dataset/human_melanoma_data.tsv'):\n",
    "\n",
    "    if os.path.isfile(preprocessed_path):\n",
    "        return np.load(preprocessed_path),             np.load(preprocessed_path.split('.')[0] + \"_column_lbls.npy\"),             np.load(preprocessed_path.split('.')[0] + \"_row_lbls.npy\")\n",
    "\n",
    "    elif os.path.isfile(raw_path):\n",
    "        expr_data = pd.read_csv(raw_path, delimiter='\\t').T\n",
    "        print(\"Number of cells:\", expr_data.shape[0])\n",
    "        print(\"Number of genes:\", expr_data.shape[1])\n",
    "\n",
    "        # excise stop genes\n",
    "        STOP_GENES = ['ACTB', 'B2M', 'EEF1A1', 'MTRNR2L1', 'MTRNR2L2',\n",
    "                  'MTRNR2L8', 'RPL41', 'RPLP1', 'RPS18', 'RPS27', 'TMSB4X']\n",
    "        expr_data = expr_data.drop(STOP_GENES, 1)\n",
    "        print(\"After cutting out stop genes:\")\n",
    "        print(\"\\tNumber of cells:\", expr_data.shape[0])\n",
    "        print(\"\\tNumber of genes:\", expr_data.shape[1])\n",
    "\n",
    "        genes = list(expr_data.columns.values)\n",
    "        ribosomal_genes = [gene for gene in genes if gene.startswith('RPL')]\n",
    "        mito_ribosomal_genes = [gene for gene in genes if gene.startswith('MRPL')]\n",
    "        excise_genes = ribosomal_genes + mito_ribosomal_genes\n",
    "        expr_data = expr_data.drop(excise_genes, 1)\n",
    "        print(\"After cutting out ribosomal protein genes:\")\n",
    "        print(\"\\tNumber of cells:\", expr_data.shape[0])\n",
    "        print(\"\\tNumber of genes:\", expr_data.shape[1])\n",
    "\n",
    "        # excise zero cells\n",
    "        expr_data = cut_out_zero_rows(expr_data)\n",
    "        print(\"After cutting out all-zero rows [cells]:\")\n",
    "        print(\"\\tNumber of cells:\", expr_data.shape[0])\n",
    "        print(\"\\tNumber of genes:\", expr_data.shape[1])\n",
    "\n",
    "        # excise zero genes\n",
    "        expr_data = cut_out_zero_cols(expr_data)\n",
    "        print(\"After cutting out all-zero columns [genes]:\")\n",
    "        print(\"\\tNumber of cells:\", expr_data.shape[0])\n",
    "        print(\"\\tNumber of genes:\", expr_data.shape[1])\n",
    "        \n",
    "        expr_data = expr_data.astype('int')\n",
    "\n",
    "        if not os.path.isdir('dataset/preprocessed/'):\n",
    "            os.mkdir('dataset/preprocessed/')\n",
    "\n",
    "        np.save(preprocessed_path, expr_data.values)\n",
    "        np.save(preprocessed_path.split('.')[0] + \"_column_lbls.npy\", expr_data.columns.values)\n",
    "        np.save(preprocessed_path.split('.')[0] + \"_row_lbls.npy\", expr_data.index.values)\n",
    "\n",
    "        return expr_data.values, expr_data.columns.values, expr_data.index.values\n",
    "\n",
    "    else:\n",
    "        print(\"Couldn't find files!\")\n",
    "        sys.exit(1)\n"
   ]
  },
  {
   "cell_type": "code",
   "execution_count": null,
   "metadata": {
    "collapsed": false
   },
   "outputs": [
    {
     "name": "stdout",
     "output_type": "stream",
     "text": [
      "Number of cells: 4645\n",
      "Number of genes: 23686\n",
      "After cutting out stop genes:\n",
      "\tNumber of cells: 4645\n",
      "\tNumber of genes: 23675\n",
      "After cutting out ribosomal protein genes:\n",
      "\tNumber of cells: 4645\n",
      "\tNumber of genes: 23552\n",
      "After cutting out all-zero rows [cells]:\n",
      "\tNumber of cells: 4645\n",
      "\tNumber of genes: 23552\n",
      "After cutting out all-zero columns [genes]:\n",
      "\tNumber of cells: 4645\n",
      "\tNumber of genes: 22712\n",
      "Data shape: (4645, 22712)\n"
     ]
    }
   ],
   "source": [
    "data, genes, cells = load_dataset()\n",
    "print(\"Data shape:\", data.shape)"
   ]
  }
 ],
 "metadata": {
  "kernelspec": {
   "display_name": "Python [conda root]",
   "language": "python",
   "name": "conda-root-py"
  },
  "language_info": {
   "codemirror_mode": {
    "name": "ipython",
    "version": 3
   },
   "file_extension": ".py",
   "mimetype": "text/x-python",
   "name": "python",
   "nbconvert_exporter": "python",
   "pygments_lexer": "ipython3",
   "version": "3.5.2"
  }
 },
 "nbformat": 4,
 "nbformat_minor": 1
}
